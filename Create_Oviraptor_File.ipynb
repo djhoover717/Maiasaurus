{
 "cells": [
  {
   "cell_type": "code",
   "execution_count": 1,
   "metadata": {},
   "outputs": [],
   "source": [
    "import csv\n",
    "import numpy as np\n",
    "\n",
    "MJUPITER = 1.898e27\n",
    "MEARTH = 5.972e24\n",
    "RJUPITER = 69.911e6\n",
    "REARTH = 6371e3"
   ]
  },
  {
   "cell_type": "code",
   "execution_count": 2,
   "metadata": {},
   "outputs": [],
   "source": [
    "class System:\n",
    "    def __init__(self, sysid=None):\n",
    "        self.sysid = sysid"
   ]
  },
  {
   "cell_type": "code",
   "execution_count": 3,
   "metadata": {},
   "outputs": [
    {
     "name": "stdout",
     "output_type": "stream",
     "text": [
      "Number of planets: 4097\n"
     ]
    }
   ],
   "source": [
    "my_file = 'C:/Users/djhoo/Documents/maiasaurus-master/catalogues/oviraptor_crossmatch_catalog.csv'  #reading in file\n",
    "\n",
    "raw_data = []\n",
    "with open(my_file) as infile:\n",
    "    reader = csv.reader(infile)\n",
    "    \n",
    "    for row in reader:\n",
    "        raw_data.append(row)\n",
    "        \n",
    "KEYS = raw_data[0]\n",
    "VALUES = raw_data[1:]\n",
    "\n",
    "def get_key(keyname, keys = KEYS, values = VALUES):\n",
    "    i = keys.index(keyname)\n",
    "    arr = []\n",
    "    for row in values:\n",
    "        arr.append(row[i])\n",
    "    return np.array(arr)\n",
    "\n",
    "d = {}\n",
    "d['starname'] = get_key('hostname')\n",
    "d['rp'] = get_key('pl_rade')\n",
    "d['mp'] = get_key('pl_bmasse')\n",
    "d['rs'] = get_key('st_rad')\n",
    "d['ms'] = get_key('st_mass')\n",
    "d['p'] = get_key('pl_orbper')\n",
    "d['disc_method'] = get_key('discoverymethod')\n",
    "\n",
    "print('Number of planets: %d' %len(d['starname']))"
   ]
  },
  {
   "cell_type": "code",
   "execution_count": 4,
   "metadata": {},
   "outputs": [],
   "source": [
    "def check_uniformity(detection_methods):\n",
    "    default_disc = detection_methods[0]\n",
    "    status = True\n",
    "    for i in range(len(detection_methods)):\n",
    "        if detection_methods[i] != default_disc:\n",
    "            status = False\n",
    "    return status\n",
    "\n",
    "d['system_disc_method'] = []\n",
    "\n",
    "for i in range(len(d['starname'])):\n",
    "    if check_uniformity(d['disc_method'][d['starname']==d['starname'][i]]) == False:\n",
    "        d['system_disc_method'].append('Mixed')\n",
    "    else:\n",
    "        d['system_disc_method'].append(d['disc_method'][i])"
   ]
  },
  {
   "cell_type": "code",
   "execution_count": 5,
   "metadata": {},
   "outputs": [],
   "source": [
    "for i in range(len(d['starname'])):\n",
    "    radii = d['rs'][d['starname'] == d['starname'][i]]               #replicating values of stellar radius for \n",
    "    if len(radii[radii != '']) > 0:                                  #planets withint the same system\n",
    "        true_radius = radii[radii != ''][0]\n",
    "        d['rs'][i] = true_radius\n",
    "        \n",
    "    mass = d['ms'][d['starname'] == d['starname'][i]]                #doing basically the same thing but for stellar mass\n",
    "    if len(mass[mass != '']) > 0:\n",
    "        true_mass = mass[mass != ''][0]\n",
    "        d['ms'][i] = true_mass"
   ]
  },
  {
   "cell_type": "code",
   "execution_count": 6,
   "metadata": {},
   "outputs": [
    {
     "name": "stdout",
     "output_type": "stream",
     "text": [
      "Writing Complete!\n"
     ]
    }
   ],
   "source": [
    "'''\n",
    "The data entries are the following:\n",
    "\n",
    "- Starname - name of host star\n",
    "- Rp - radius of exoplanet (in Earth radii)\n",
    "- Mp - mass of exoplanet (in Earth masses)\n",
    "- P - period of exoplanet (in days)\n",
    "- Rs - radius of host star (in solar radii)\n",
    "- Ms - mass of host star (in solar masses)\n",
    "- Detection Method - detection method (Radial Velocity, Transit, or Mixed)\n",
    "- System Detection Method - the detection method of a system as a whole\n",
    "'''\n",
    "\n",
    "output_heading = ['Starname', 'Rp', 'Mp', 'P', 'Rs', 'Ms', 'Detection Method', 'System Detection Method']\n",
    "myData = [output_heading]\n",
    "for i in range(len(d['starname'])):\n",
    "    arr = []\n",
    "    arr.append(d['starname'][i])\n",
    "    arr.append(d['rp'][i])\n",
    "    arr.append(d['mp'][i])\n",
    "    arr.append(d['p'][i])\n",
    "    arr.append(d['rs'][i])\n",
    "    arr.append(d['ms'][i])\n",
    "    arr.append(d['disc_method'][i])\n",
    "    arr.append(d['system_disc_method'][i])\n",
    "    myData.append(arr)\n",
    "outputFile = open('C:/Users/djhoo/Documents/maiasaurus-master/catalogues/oviraptor_master.csv', 'w', newline='')\n",
    "with outputFile:\n",
    "    writer = csv.writer(outputFile)\n",
    "    writer.writerows(myData)\n",
    "print('Writing Complete!')"
   ]
  },
  {
   "cell_type": "code",
   "execution_count": null,
   "metadata": {},
   "outputs": [],
   "source": []
  }
 ],
 "metadata": {
  "kernelspec": {
   "display_name": "Python 3",
   "language": "python",
   "name": "python3"
  },
  "language_info": {
   "codemirror_mode": {
    "name": "ipython",
    "version": 3
   },
   "file_extension": ".py",
   "mimetype": "text/x-python",
   "name": "python",
   "nbconvert_exporter": "python",
   "pygments_lexer": "ipython3",
   "version": "3.6.8"
  }
 },
 "nbformat": 4,
 "nbformat_minor": 4
}
