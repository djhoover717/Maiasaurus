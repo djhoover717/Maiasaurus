{
 "cells": [
  {
   "cell_type": "markdown",
   "metadata": {},
   "source": [
    "#### Adds in stellar radii for systems whose stellar radii are missing in the exoarchive catalog but not in Gaia data release 2. Also, the code classifies any system whose exoplanets were detected by more than one method as 'Mixed'."
   ]
  },
  {
   "cell_type": "code",
   "execution_count": 2,
   "metadata": {},
   "outputs": [],
   "source": [
    "import csv\n",
    "import numpy as np\n",
    "\n",
    "from astropy import constants as apc\n",
    "\n",
    "MJUPITER = apc.M_jup.value\n",
    "MEARTH = apc.M_earth.value\n",
    "RJUPITER = apc.R_jup.value\n",
    "REARTH = apc.R_earth.value"
   ]
  },
  {
   "cell_type": "code",
   "execution_count": 3,
   "metadata": {},
   "outputs": [],
   "source": [
    "class System:\n",
    "    def __init__(self, sysid=None):\n",
    "        self.sysid = sysid"
   ]
  },
  {
   "cell_type": "code",
   "execution_count": 4,
   "metadata": {},
   "outputs": [
    {
     "name": "stdout",
     "output_type": "stream",
     "text": [
      "Number of planets in crossmatched catalog: 4107\n"
     ]
    }
   ],
   "source": [
    "#reading in file\n",
    "my_file = 'C:/Users/djhoo/Documents/Oviraptor-master/catalogues/oviraptor_crossmatch_catalog.csv'  \n",
    "#my_file = \"/Users/research/projects/oviraptor/catalogues/oviraptor_crossmatch_catalog.csv\"\n",
    "\n",
    "raw_data = []\n",
    "with open(my_file) as infile:\n",
    "    reader = csv.reader(infile)\n",
    "    \n",
    "    for row in reader:\n",
    "        raw_data.append(row)\n",
    "        \n",
    "KEYS = raw_data[0]\n",
    "VALUES = raw_data[1:]\n",
    "\n",
    "def get_key(keyname, keys = KEYS, values = VALUES):\n",
    "    i = keys.index(keyname)\n",
    "    arr = []\n",
    "    for row in values:\n",
    "        arr.append(row[i])\n",
    "    return np.array(arr)\n",
    "\n",
    "d = {}\n",
    "d['starname'] = get_key('hostname')\n",
    "\n",
    "d['rp'] = get_key('pl_rade')\n",
    "d['rp_err1'] = get_key('pl_radeerr1')\n",
    "d['rp_err2'] = get_key('pl_radeerr2')\n",
    "d['mp'] = get_key('pl_bmasse')\n",
    "d['mp_err1'] = get_key('pl_bmasseerr1')\n",
    "d['mp_err2'] = get_key('pl_bmasseerr2')\n",
    "\n",
    "d['ror'] = get_key('pl_ratror')\n",
    "d['ror_err1'] = get_key('pl_ratrorerr1')\n",
    "d['ror_err2'] = get_key('pl_ratrorerr2')\n",
    "\n",
    "d['rs'] = get_key('st_rad')\n",
    "d['rs_err1'] = get_key('st_raderr1')\n",
    "d['rs_err2'] = get_key('st_raderr2')\n",
    "d['ms'] = get_key('st_mass')\n",
    "d['ms_err1'] = get_key('st_masserr1')\n",
    "d['ms_err2'] = get_key('st_masserr2')\n",
    "\n",
    "d['p'] = get_key('pl_orbper')\n",
    "d['disc_method'] = get_key('discoverymethod')\n",
    "d['temp'] = get_key('st_teff')\n",
    "d['mag'] = get_key('sy_vmag')\n",
    "d['ref'] = get_key('st_refname')\n",
    "d['instrument'] = get_key('disc_facility')\n",
    "\n",
    "print('Number of planets in crossmatched catalog: %d' %len(d['starname']))"
   ]
  },
  {
   "cell_type": "code",
   "execution_count": 5,
   "metadata": {},
   "outputs": [],
   "source": [
    "def check_uniformity(detection_methods):\n",
    "    default_disc = detection_methods[0]\n",
    "    status = True\n",
    "    for i in range(len(detection_methods)):\n",
    "        if detection_methods[i] != default_disc:\n",
    "            status = False\n",
    "    return status\n",
    "\n",
    "d['system_disc_method'] = []\n",
    "\n",
    "for i in range(len(d['starname'])):\n",
    "    if check_uniformity(d['disc_method'][d['starname']==d['starname'][i]]) == False:\n",
    "        d['system_disc_method'].append('Mixed')\n",
    "    else:\n",
    "        d['system_disc_method'].append(d['disc_method'][i])"
   ]
  },
  {
   "cell_type": "code",
   "metadata": {},
   "outputs": [],
   "source": [
    "gaia_stars = {}\n",
    "gaia_stars['stars'] = ['HD 136352', 'HD 141399', 'HD 160691', 'HD 20781', 'HD 20794', 'HD 27984', 'HD 31527', \\\n",
    "                      'HD 40307', 'tau Cet']\n",
    "gaia_stars['radii'] = [1.0041078, 1.3874089, 1.3901234, 0.8336087, 0.83483344, 0.89176697, 1.0736936, 1.3310363, \\\n",
    "                      0.793]  \n",
    "\n",
    "#all of these radii are taken from the Gaia archive\n",
    "#except for tau Cet, which was taken from Dietrich and Apai (2020)\n",
    "\n",
    "for i in range(len(d['starname'])):\n",
    "    if d['starname'][i] in gaia_stars['stars']:\n",
    "        d['rs'][i] = gaia_stars['radii'][gaia_stars['stars'] == d['starname'][i]]"
   ]
  },
  {
   "cell_type": "code",
   "execution_count": 11,
   "metadata": {},
   "outputs": [],
   "source": [
    "#manually add in exoplanet radii and radii errors from HIP 41378\n",
    "#This comes from Berardo et. al. (2019)\n",
    "#link: https://ui.adsabs.harvard.edu/abs/2019AJ....157..185B/abstract\n",
    "#all values were calculated manually starting from the radii of the star, rp/rs, and the uncertainties\n",
    "#note that the order of the planets in the oviraptor catalog is c, d, e, b, f\n",
    "\n",
    "hip = {}\n",
    "hip['planet_radius'] = [2.936, 3.758, 5.411, 2.705, 9.691]   \n",
    "hip['rerr_lower'] = [0.55, 0.14, 0.17, 0.084, 0.23] \n",
    "hip['rerr_upper'] = [2.6, 0.12, 0.21, 0.17, 0.23]\n",
    "\n",
    "d['rp'][d['starname'] == 'HIP 41378'] = hip['planet_radius']\n",
    "d['rerr1'][d['starname'] == 'HIP 41378'] = hip['rerr_upper']\n",
    "d['rerr2'][d['starname'] == 'HIP 41378'] = hip['rerr_lower']"
   ]
  },
  {
   "cell_type": "code",
   "execution_count": 12,
   "metadata": {},
   "outputs": [],
   "source": [
    "#https://arxiv.org/ftp/astro-ph/papers/0703/0703024.pdf\n",
    "\n",
    "d['rs'][d['starname'] == 'HD 69830'] = [0.89]*len(d['starname'][d['starname'] == 'HD 69830'])\n",
    "d['rserr1'][d['starname'] == 'HD 69830'] = [27.480]*len(d['starname'][d['starname'] == 'HD 69830'])\n",
    "d['rserr2'][d['starname'] == 'HD 69830'] = [27.480]*len(d['starname'][d['starname'] == 'HD 69830'])\n",
    "\n",
    "#https://arxiv.org/pdf/1402.6534.pdf\n",
    "\n",
    "d['ms'][d['starname'] == 'Kepler-257'] = [0.9008]*len(d['starname'][d['starname'] == 'Kepler-257'])\n",
    "d['ms'][d['starname'] == 'Kepler-359'] = [1.098]*len(d['starname'][d['starname'] == 'Kepler-359'])\n",
    "\n",
    "d['mserr1'][d['starname'] == 'Kepler-257'] = [1.473]*len(d['starname'][d['starname'] == 'Kepler-257'])\n",
    "d['mserr2'][d['starname'] == 'Kepler-257'] = [1.473]*len(d['starname'][d['starname'] == 'Kepler-257'])\n",
    "\n",
    "d['mserr1'][d['starname'] == 'Kepler-359'] = [1.654]*len(d['starname'][d['starname'] == 'Kepler-359'])\n",
    "d['mserr2'][d['starname'] == 'Kepler-359'] = [1.654]*len(d['starname'][d['starname'] == 'Kepler-359'])"
   ]
  },
  {
   "cell_type": "code",
   "execution_count": 13,
   "metadata": {},
   "outputs": [
    {
     "name": "stdout",
     "output_type": "stream",
     "text": [
      "\n",
      "\n",
      "Missing RADIUS\n",
      "['GJ 163' 'GJ 180' 'GJ 433' 'GJ 667 C' 'HD 133131 A' 'HD 133131 B'\n",
      " 'HD 27894' 'HD 37124']\n",
      "\n",
      "\n",
      "Missing MASS\n",
      "['GJ 163']\n"
     ]
    }
   ],
   "source": [
    "npl = np.array(get_key('sy_pnum'), dtype=\"int\")\n",
    "Rstar = np.array(d['rs'])\n",
    "Mstar = np.array(d['ms'])\n",
    "sdm = np.array(d['system_disc_method'])\n",
    "starname = np.array(d['starname'])\n",
    "\n",
    "print(\"\\n\\nMissing RADIUS\")\n",
    "print(np.unique(starname[(Rstar == '')*(npl > 2)]))\n",
    "\n",
    "\n",
    "print(\"\\n\\nMissing MASS\")\n",
    "print(np.unique(starname[(Mstar == '')*(npl > 2)]))"
   ]
  },
  {
   "cell_type": "code",
   "execution_count": 14,
   "metadata": {},
   "outputs": [],
   "source": [
    "WRITENEW = True\n",
    "if WRITENEW:\n",
    "    filepath = \"/Users/research/projects/oviraptor/catalogues/oviraptor_master.csv\"\n",
    "\n",
    "    with open(filepath, \"w\") as outfile:\n",
    "        writer = csv.writer(outfile)\n",
    "        writer.writerow(d.keys())\n",
    "        writer.writerows(zip(*d.values()))"
   ]
  }
 ],
 "metadata": {
  "kernelspec": {
   "display_name": "Python 3",
   "language": "python",
   "name": "python3"
  },
  "language_info": {
   "codemirror_mode": {
    "name": "ipython",
    "version": 3
   },
   "file_extension": ".py",
   "mimetype": "text/x-python",
   "name": "python",
   "nbconvert_exporter": "python",
   "pygments_lexer": "ipython3",
   "version": "3.8.5"
  }
 },
 "nbformat": 4,
 "nbformat_minor": 4
}
