{
 "cells": [
  {
   "cell_type": "code",
   "execution_count": 5,
   "metadata": {},
   "outputs": [],
   "source": [
    "import archinfo\n",
    "import numpy as np"
   ]
  },
  {
   "cell_type": "code",
   "execution_count": 6,
   "metadata": {},
   "outputs": [
    {
     "name": "stdout",
     "output_type": "stream",
     "text": [
      "11.636973768261749\n"
     ]
    }
   ],
   "source": [
    "periods = np.array([1.96876, 3.06008, 4.65627])          #in days\n",
    "masses = np.array([0.75, 0.98, 1.14])                    #in Earth masses\n",
    "mstar = 0.130                                            #in solar masses\n",
    "\n",
    "\"\"\"\n",
    "Data taken from the YZ Ceti system, which has 3 planets.\n",
    "Used https://en.wikipedia.org/wiki/YZ_Ceti for reference.\n",
    "\"\"\"\n",
    "\n",
    "S = archinfo.S(periods, masses, mstar)\n",
    "print(S)"
   ]
  },
  {
   "cell_type": "code",
   "execution_count": null,
   "metadata": {},
   "outputs": [],
   "source": [
    "periods = np.array([1.96876, 3.06008, 4.65627])          \n",
    "masses = np.array([0.75, 0.98, 1.14])                    \n",
    "mstar = 0.130     "
   ]
  }
 ],
 "metadata": {
  "kernelspec": {
   "display_name": "Python 3",
   "language": "python",
   "name": "python3"
  },
  "language_info": {
   "codemirror_mode": {
    "name": "ipython",
    "version": 3
   },
   "file_extension": ".py",
   "mimetype": "text/x-python",
   "name": "python",
   "nbconvert_exporter": "python",
   "pygments_lexer": "ipython3",
   "version": "3.6.8"
  }
 },
 "nbformat": 4,
 "nbformat_minor": 4
}
