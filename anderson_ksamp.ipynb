{
 "cells": [
  {
   "cell_type": "code",
   "execution_count": 1,
   "metadata": {},
   "outputs": [],
   "source": [
    "import numpy as np\n",
    "import matplotlib.pyplot as plt\n",
    "from scipy import stats"
   ]
  },
  {
   "cell_type": "code",
   "execution_count": 18,
   "metadata": {},
   "outputs": [],
   "source": [
    "def my_andersom_2samp(x1, x2):\n",
    "    \"\"\"\n",
    "    Anderson-Darling 2-sample test statistic\n",
    "    See Scholz & Stephens (1987) Eq. 4\n",
    "    \"\"\"\n",
    "    # test statistic and p value from scipy implementation\n",
    "    AkN2, crit, p = stats.anderson_ksamp([x1,x2])\n",
    "    \n",
    "    # coefficients to calculate significance level\n",
    "    # \n",
    "    n1 = len(x1)\n",
    "    n2 = len(x2)\n",
    "    N = n1 + n2\n",
    "    \n",
    "    H = 1/n1 + 1/n2\n",
    "    h = np.sum(1/np.arange(1,N))\n",
    "    \n",
    "    g = 0\n",
    "    for i in range(1,N-2):\n",
    "        for j in range(i+1,N):\n",
    "            g += 1/(N-i)/j\n",
    "    \n",
    "    k = 2\n",
    "    \n",
    "    a = (4*g-6)*(k-1) + (10-6*g)*H\n",
    "    b = (2*g-4)*k**2 + 8*h*k * (2*g-14*h-4)*H\n",
    "    c = (6*h+2*g-2)*k**2 + (4*h-4*g+6)*k\n",
    "    d = (2*h+6)*k**2 - 4*h*k\n",
    "    \n",
    "    # \n",
    "    varN = (a*N**3 + b*N**2 + c*N + d) / ((N-1)*(N-2)*(N-3))\n",
    "    TkN = (AkN2 - 1) / np.sqrt(varN)\n",
    "    \n",
    "    return a*N**3 + b*N**2 + c*N + d"
   ]
  },
  {
   "cell_type": "code",
   "execution_count": 19,
   "metadata": {},
   "outputs": [
    {
     "name": "stderr",
     "output_type": "stream",
     "text": [
      "/Users/research/anaconda3/lib/python3.7/site-packages/ipykernel_launcher.py:7: UserWarning: p-value capped: true value larger than 0.25\n",
      "  import sys\n",
      "/Users/research/anaconda3/lib/python3.7/site-packages/ipykernel_launcher.py:32: RuntimeWarning: invalid value encountered in sqrt\n"
     ]
    },
    {
     "data": {
      "text/plain": [
       "-1142323.430681892"
      ]
     },
     "execution_count": 19,
     "metadata": {},
     "output_type": "execute_result"
    }
   ],
   "source": [
    "x1 = np.random.normal(0,1, size=25)\n",
    "x2 = np.random.normal(0,1, size=32)\n",
    "\n",
    "my_andersom_2samp(x1, x2)"
   ]
  },
  {
   "cell_type": "code",
   "execution_count": 3,
   "metadata": {},
   "outputs": [],
   "source": []
  },
  {
   "cell_type": "code",
   "execution_count": 5,
   "metadata": {},
   "outputs": [],
   "source": [
    "stats.norm?"
   ]
  },
  {
   "cell_type": "code",
   "execution_count": null,
   "metadata": {},
   "outputs": [],
   "source": []
  }
 ],
 "metadata": {
  "kernelspec": {
   "display_name": "Python 3",
   "language": "python",
   "name": "python3"
  },
  "language_info": {
   "codemirror_mode": {
    "name": "ipython",
    "version": 3
   },
   "file_extension": ".py",
   "mimetype": "text/x-python",
   "name": "python",
   "nbconvert_exporter": "python",
   "pygments_lexer": "ipython3",
   "version": "3.7.3"
  }
 },
 "nbformat": 4,
 "nbformat_minor": 2
}
