{
 "cells": [
  {
   "cell_type": "markdown",
   "metadata": {},
   "source": [
    "#### Adds in stellar radii for systems whose stellar radii are missing in the exoarchive catalog but not in Gaia data release 2. Also, the code classifies any system whose exoplanets were detected by more than one method as 'Mixed'."
   ]
  },
  {
   "cell_type": "code",
   "execution_count": 1,
   "metadata": {},
   "outputs": [],
   "source": [
    "import csv\n",
    "import numpy as np\n",
    "\n",
    "from astropy import constants as apc\n",
    "\n",
    "MJUPITER = apc.M_jup.value\n",
    "MEARTH = apc.M_earth.value\n",
    "RJUPITER = apc.R_jup.value\n",
    "REARTH = apc.R_earth.value"
   ]
  },
  {
   "cell_type": "code",
   "execution_count": 2,
   "metadata": {},
   "outputs": [],
   "source": [
    "class System:\n",
    "    def __init__(self, sysid=None):\n",
    "        self.sysid = sysid"
   ]
  },
  {
   "cell_type": "code",
   "execution_count": 3,
   "metadata": {},
   "outputs": [
    {
     "name": "stdout",
     "output_type": "stream",
     "text": [
      "Number of planets in crossmatched catalog: 4097\n"
     ]
    }
   ],
   "source": [
    "#reading in file\n",
    "#my_file = 'C:/Users/djhoo/Documents/maiasaurus-master/catalogues/oviraptor_crossmatch_catalog.csv'  \n",
    "my_file = \"/Users/research/projects/oviraptor/catalogues/oviraptor_crossmatch_catalog.csv\"\n",
    "\n",
    "raw_data = []\n",
    "with open(my_file) as infile:\n",
    "    reader = csv.reader(infile)\n",
    "    \n",
    "    for row in reader:\n",
    "        raw_data.append(row)\n",
    "        \n",
    "KEYS = raw_data[0]\n",
    "VALUES = raw_data[1:]\n",
    "\n",
    "def get_key(keyname, keys = KEYS, values = VALUES):\n",
    "    i = keys.index(keyname)\n",
    "    arr = []\n",
    "    for row in values:\n",
    "        arr.append(row[i])\n",
    "    return np.array(arr)\n",
    "\n",
    "d = {}\n",
    "d['starname'] = get_key('hostname')\n",
    "\n",
    "d['rp'] = get_key('pl_rade')\n",
    "d['rerr1'] = get_key('pl_radeerr1')\n",
    "d['rerr2'] = get_key('pl_radeerr2')\n",
    "d['mp'] = get_key('pl_bmasse')\n",
    "d['merr1'] = get_key('pl_bmasseerr1')\n",
    "d['merr2'] = get_key('pl_bmasseerr2')\n",
    "\n",
    "d['rs'] = get_key('st_rad')\n",
    "d['rs_err1'] = get_key('st_raderr1')\n",
    "d['rs_err2'] = get_key('st_raderr2')\n",
    "d['ms'] = get_key('st_mass')\n",
    "d['ms_err1'] = get_key('st_masserr1')\n",
    "d['ms_err2'] = get_key('st_masserr2')\n",
    "\n",
    "d['p'] = get_key('pl_orbper')\n",
    "d['disc_method'] = get_key('discoverymethod')\n",
    "d['temp'] = get_key('st_teff')\n",
    "d['mag'] = get_key('sy_vmag')\n",
    "d['ref'] = get_key('st_refname')\n",
    "d['instrument'] = get_key('disc_facility')\n",
    "\n",
    "print('Number of planets in crossmatched catalog: %d' %len(d['starname']))"
   ]
  },
  {
   "cell_type": "code",
   "execution_count": 4,
   "metadata": {},
   "outputs": [],
   "source": [
    "def check_uniformity(detection_methods):\n",
    "    default_disc = detection_methods[0]\n",
    "    status = True\n",
    "    for i in range(len(detection_methods)):\n",
    "        if detection_methods[i] != default_disc:\n",
    "            status = False\n",
    "    return status\n",
    "\n",
    "d['system_disc_method'] = []\n",
    "\n",
    "for i in range(len(d['starname'])):\n",
    "    if check_uniformity(d['disc_method'][d['starname']==d['starname'][i]]) == False:\n",
    "        d['system_disc_method'].append('Mixed')\n",
    "    else:\n",
    "        d['system_disc_method'].append(d['disc_method'][i])"
   ]
  },
  {
   "cell_type": "code",
   "execution_count": 5,
   "metadata": {},
   "outputs": [],
   "source": [
    "gaia_stars = {}\n",
    "gaia_stars['stars'] = ['HD 136352', 'HD 141399', 'HD 160691', 'HD 20781', 'HD 20794', 'HD 27984', 'HD 31527', \\\n",
    "                      'HD 40307', 'tau Cet']\n",
    "gaia_stars['radii'] = [1.0041078, 1.3874089, 1.3901234, 0.8336087, 0.83483344, 0.89176697, 1.0736936, 1.3310363, \\\n",
    "                      0.793]  \n",
    "\n",
    "#all of these radii are taken from the Gaia archive\n",
    "#except for tau Cet, which was taken from Dietrich and Apai (2020)\n",
    "\n",
    "for i in range(len(d['starname'])):\n",
    "    if d['starname'][i] in gaia_stars['stars']:\n",
    "        d['rs'][i] = gaia_stars['radii'][gaia_stars['stars'] == d['starname'][i]]"
   ]
  },
  {
   "cell_type": "code",
   "execution_count": 6,
   "metadata": {},
   "outputs": [
    {
     "name": "stdout",
     "output_type": "stream",
     "text": [
      "Writing Complete!\n"
     ]
    }
   ],
   "source": [
    "'''\n",
    "The data entries are the following:\n",
    "\n",
    "- Starname - name of host star\n",
    "- Rp - radius of exoplanet (in Earth radii)\n",
    "- Mp - mass of exoplanet (in Earth masses)\n",
    "- P - period of exoplanet (in days)\n",
    "- Rs - radius of host star (in solar radii)\n",
    "- Ms - mass of host star (in solar masses)\n",
    "- Detection Method - detection method (Radial Velocity, Transit, or Mixed)\n",
    "- System Detection Method - the detection method of a system as a whole\n",
    "- Temp - temperature of the star (in Kelvin)\n",
    "- Mag - visual magnitude of the star\n",
    "- Instrument - discovery instrument of the star\n",
    "- Ref - reference paper\n",
    "'''\n",
    "\n",
    "output_heading = ['Starname', 'Rp', 'R_upper', 'R_lower', 'Mp', 'M_upper', 'M_lower', 'P', \\\n",
    "                  'Rs', 'Rs_err1', 'Rs_err2', 'Ms', 'Ms_err1', 'Ms_err2', \\\n",
    "                  'Detection Method', 'System Detection Method', 'Temp', 'Mag', 'Instrument', 'Ref']\n",
    "myData = [output_heading]\n",
    "for i in range(len(d['starname'])):\n",
    "    arr = []\n",
    "    arr.append(d['starname'][i])\n",
    "    arr.append(d['rp'][i])\n",
    "    arr.append(d['rerr1'][i])\n",
    "    arr.append(d['rerr2'][i])\n",
    "    arr.append(d['mp'][i])\n",
    "    arr.append(d['merr1'][i])\n",
    "    arr.append(d['merr2'][i])\n",
    "    arr.append(d['p'][i])\n",
    "    arr.append(d['rs'][i])\n",
    "    arr.append(d['rs_err1'][i])\n",
    "    arr.append(d['rs_err2'][i])\n",
    "    arr.append(d['ms'][i])\n",
    "    arr.append(d['ms_err1'][i])\n",
    "    arr.append(d['ms_err2'][i])\n",
    "    arr.append(d['disc_method'][i])\n",
    "    arr.append(d['system_disc_method'][i])\n",
    "    arr.append(d['temp'][i])\n",
    "    arr.append(d['mag'][i])\n",
    "    arr.append(d['instrument'][i])\n",
    "    arr.append(d['ref'][i])\n",
    "    myData.append(arr)\n",
    "\n",
    "#outputFile = open('C:/Users/djhoo/Documents/maiasaurus-master/catalogues/oviraptor_master.csv', 'w', newline='')\n",
    "outputFile = open(\"/Users/research/projects/oviraptor/catalogues/oviraptor_master.csv\", \"w\", newline='')\n",
    "\n",
    "with outputFile:\n",
    "    writer = csv.writer(outputFile)\n",
    "    writer.writerows(myData)\n",
    "print('Writing Complete!')"
   ]
  },
  {
   "cell_type": "code",
   "execution_count": null,
   "metadata": {},
   "outputs": [],
   "source": []
  }
 ],
 "metadata": {
  "kernelspec": {
   "display_name": "Python 3",
   "language": "python",
   "name": "python3"
  },
  "language_info": {
   "codemirror_mode": {
    "name": "ipython",
    "version": 3
   },
   "file_extension": ".py",
   "mimetype": "text/x-python",
   "name": "python",
   "nbconvert_exporter": "python",
   "pygments_lexer": "ipython3",
   "version": "3.7.3"
  }
 },
 "nbformat": 4,
 "nbformat_minor": 4
}
