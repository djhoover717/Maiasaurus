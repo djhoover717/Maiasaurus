{
 "cells": [
  {
   "cell_type": "code",
   "execution_count": 1,
   "metadata": {
    "scrolled": true
   },
   "outputs": [
    {
     "data": {
      "text/plain": [
       "'\\nExtracts RV data for the table in the paper.\\nOutputs the table\\n'"
      ]
     },
     "execution_count": 1,
     "metadata": {},
     "output_type": "execute_result"
    }
   ],
   "source": [
    "'''\n",
    "Extracts RV data for the table in the paper.\n",
    "Outputs the table\n",
    "'''"
   ]
  },
  {
   "cell_type": "code",
   "execution_count": 2,
   "metadata": {
    "scrolled": true
   },
   "outputs": [],
   "source": [
    "import numpy as np\n",
    "import csv\n",
    "from tabulate import tabulate\n",
    "from texttable import Texttable\n",
    "import matplotlib.pyplot as plt\n",
    "\n",
    "import sys\n",
    "sys.path.insert(0, \"./forecaster/\")\n",
    "import mr_forecast as mr\n",
    "\n",
    "import astropy.stats\n",
    "from astropy import constants as apc\n",
    "\n",
    "pi = np.pi\n",
    "\n",
    "MJUPITER = apc.M_jup.value\n",
    "MEARTH = apc.M_earth.value\n",
    "MSUN = apc.M_sun.value\n",
    "\n",
    "RJUPITER = apc.R_jup.value\n",
    "REARTH = apc.R_earth.value\n",
    "RSUN = apc.R_sun.value\n",
    "\n",
    "AU = apc.au.value\n",
    "BIGG = apc.G.value"
   ]
  },
  {
   "cell_type": "code",
   "execution_count": 3,
   "metadata": {
    "scrolled": true
   },
   "outputs": [],
   "source": [
    "class System:\n",
    "    def __init__(self, sysid=None):\n",
    "        \n",
    "        self.sysid = sysid"
   ]
  },
  {
   "cell_type": "code",
   "execution_count": 4,
   "metadata": {
    "scrolled": true
   },
   "outputs": [],
   "source": [
    "my_file = 'C:/Users/djhoo/Documents/Oviraptor-master/catalogues/oviraptor_crossmatch_catalog_v2.csv'  #reading in file\n",
    "\n",
    "raw_data = []\n",
    "with open(my_file) as infile:\n",
    "    reader = csv.reader(infile)\n",
    "    \n",
    "    for row in reader:\n",
    "        raw_data.append(row)\n",
    "        \n",
    "KEYS = raw_data[0]\n",
    "VALUES = raw_data[2::2]\n",
    "\n",
    "def get_key(keyname, keys = KEYS, values = VALUES):\n",
    "    i = keys.index(keyname)\n",
    "    arr = []\n",
    "    for row in values:\n",
    "        arr.append(row[i])\n",
    "    return np.array(arr)"
   ]
  },
  {
   "cell_type": "code",
   "execution_count": 5,
   "metadata": {
    "scrolled": true
   },
   "outputs": [],
   "source": [
    "d = {}\n",
    "d['starname'] = get_key('hostname')\n",
    "d['rs'] = get_key('st_rad')\n",
    "d['rs_lower'] = get_key('st_raderr2')\n",
    "d['rs_upper'] = get_key('st_raderr1')\n",
    "d['ms'] = get_key('st_mass')\n",
    "d['ms_lower'] = get_key('st_masserr2')\n",
    "d['ms_upper'] = get_key('st_masserr1')\n",
    "d['disc_method'] = get_key('system_disc_method')\n",
    "d['mag'] = get_key('sy_vmag')\n",
    "d['temp'] = get_key('st_teff')\n",
    "d['ref'] = get_key('st_refname')\n",
    "d['instrument'] = get_key('disc_facility')\n",
    "d['rp'] = get_key('pl_rade')\n",
    "d['rp_err1'] = get_key('pl_radeerr1')\n",
    "d['rp_err2'] = get_key('pl_radeerr2')\n",
    "d['mp'] = get_key('pl_bmasse')\n",
    "d['mp_err1'] = get_key('pl_bmasseerr1')\n",
    "d['mp_err2'] = get_key('pl_bmasseerr2')\n",
    "d['p'] = get_key('pl_orbper')"
   ]
  },
  {
   "cell_type": "code",
   "execution_count": 6,
   "metadata": {},
   "outputs": [],
   "source": [
    "# convert numerical quantities to floats; set missing values to np.nan\n",
    "for k in d.keys():\n",
    "    if (k[-11:] != \"disc_method\")*(k != \"starname\")*(k != 'ref')*(k != 'instrument'):\n",
    "        \n",
    "        arr = np.zeros(len(d[\"starname\"]))\n",
    "\n",
    "        for i, entry in enumerate(d[k]):\n",
    "            if entry == \"\":\n",
    "                arr[i] = np.nan\n",
    "            else:\n",
    "                arr[i] = float(entry)\n",
    "                \n",
    "        d[k] = np.copy(arr)"
   ]
  },
  {
   "cell_type": "code",
   "execution_count": 7,
   "metadata": {},
   "outputs": [
    {
     "name": "stdout",
     "output_type": "stream",
     "text": [
      "After removing systems with N < 3, 842 objects in 239 systems remain\n"
     ]
    }
   ],
   "source": [
    "# count up the planets in each system\n",
    "d[\"npl\"] = np.zeros(len(d[\"starname\"]), dtype=\"int\")\n",
    "\n",
    "for i, s in enumerate(d[\"starname\"]):\n",
    "    d[\"npl\"][i] = int(np.sum(d[\"starname\"] == s))\n",
    "\n",
    "# remove systems with fewer than 3 planets\n",
    "keep = d[\"npl\"] >= 3\n",
    "\n",
    "for k in d.keys():\n",
    "    d[k] = d[k][keep]\n",
    "    \n",
    "print(\"After removing systems with N < 3, {0} objects in {1} systems remain\"\n",
    "      .format(np.sum(keep), len(np.unique(d[\"starname\"]))))"
   ]
  },
  {
   "cell_type": "code",
   "execution_count": 8,
   "metadata": {},
   "outputs": [
    {
     "name": "stdout",
     "output_type": "stream",
     "text": [
      "Removed the following systems with missing Mstar or Rstar\n",
      "Kepler-257\n",
      "Kepler-359\n",
      "\n",
      "After removals, 836 objects in 237 systems remain\n"
     ]
    }
   ],
   "source": [
    "# remove systems with missing stellar mass or radius\n",
    "bad = np.isnan(d[\"ms\"]) + np.isnan(d[\"rs\"])\n",
    "\n",
    "print(\"Removed the following systems with missing Mstar or Rstar\")\n",
    "for star in np.unique(d[\"starname\"][bad]):\n",
    "    print(star)   \n",
    "    \n",
    "for k in d.keys():\n",
    "    d[k] = d[k][~bad]\n",
    "    \n",
    "print(\"\\nAfter removals, {0} objects in {1} systems remain\"\n",
    "      .format(np.sum(~bad), len(np.unique(d[\"starname\"]))))"
   ]
  },
  {
   "cell_type": "code",
   "execution_count": 9,
   "metadata": {},
   "outputs": [
    {
     "name": "stdout",
     "output_type": "stream",
     "text": [
      "The following systems have missing uncertainty on Mstar\n"
     ]
    }
   ],
   "source": [
    "# fix one-sided Mstar uncertainties\n",
    "for i, star in enumerate(d[\"starname\"]):\n",
    "    if np.isnan(d[\"ms_lower\"][i]) + ~np.isnan(d[\"ms_upper\"][i]):\n",
    "        d[\"ms_lower\"][i] = -d[\"ms_upper\"][i]\n",
    "    if ~np.isnan(d[\"ms_lower\"][i]) + np.isnan(d[\"ms_upper\"][i]):\n",
    "        d[\"ms_upper\"][i] = -d[\"ms_lower\"][i]\n",
    "        \n",
    "\n",
    "# flag systems with no stellar mass uncertainty\n",
    "bad = np.isnan(d[\"ms_lower\"]) + np.isnan(d[\"ms_upper\"])\n",
    "\n",
    "\n",
    "print(\"The following systems have missing uncertainty on Mstar\")\n",
    "for star in np.unique(d[\"starname\"][bad]):\n",
    "    print(star)"
   ]
  },
  {
   "cell_type": "code",
   "execution_count": 10,
   "metadata": {},
   "outputs": [
    {
     "name": "stdout",
     "output_type": "stream",
     "text": [
      "The following systems have missing uncertainty on Rstar\n"
     ]
    }
   ],
   "source": [
    "# fix one-sided Rstar uncertainties\n",
    "for i, star in enumerate(d[\"starname\"]):\n",
    "    if np.isnan(d[\"rs_lower\"][i]) + ~np.isnan(d[\"rs_upper\"][i]):\n",
    "        d[\"rs_lower\"][i] = -d[\"rs_upper\"][i]\n",
    "    if ~np.isnan(d[\"rs_lower\"][i]) + np.isnan(d[\"rs_upper\"][i]):\n",
    "        d[\"rs_upper\"][i] = -d[\"rs_lower\"][i]\n",
    "\n",
    "        \n",
    "# flag systems with no stellar radius uncertainty\n",
    "bad = np.isnan(d[\"rs_lower\"]) + np.isnan(d[\"rs_upper\"])\n",
    "\n",
    "\n",
    "print(\"The following systems have missing uncertainty on Rstar\")\n",
    "for star in np.unique(d[\"starname\"][bad]):\n",
    "    print(star)"
   ]
  },
  {
   "cell_type": "code",
   "execution_count": 11,
   "metadata": {},
   "outputs": [
    {
     "name": "stdout",
     "output_type": "stream",
     "text": [
      "\n",
      "After removing stars with missing mass/radius uncertainty, 836 objects in 237 systems remain\n"
     ]
    }
   ],
   "source": [
    "# remove systems with missing stellar mass or radius uncertainty\n",
    "# or if their stellar mass or radius uncertainty\n",
    "bad = np.isnan(d[\"rs_lower\"]) + np.isnan(d[\"rs_upper\"]) + \\\n",
    "        np.isnan(d[\"ms_lower\"]) + np.isnan(d[\"ms_upper\"])\n",
    "\n",
    "for k in d.keys():\n",
    "    d[k] = d[k][~bad]\n",
    "    \n",
    "print(\"\\nAfter removing stars with missing mass/radius uncertainty, {0} objects in {1} systems remain\"\n",
    "      .format(np.sum(~bad), len(np.unique(d[\"starname\"]))))"
   ]
  },
  {
   "cell_type": "code",
   "execution_count": 12,
   "metadata": {},
   "outputs": [
    {
     "name": "stdout",
     "output_type": "stream",
     "text": [
      "Flagged, 0 planets with only upper/lower limit on mass or radius\n"
     ]
    }
   ],
   "source": [
    "# flag systems with only an upper/lower limit on planet mass or radius\n",
    "bad  = np.isnan(d[\"rp_err1\"]) * ~np.isnan(d[\"rp_err2\"])\n",
    "bad += ~np.isnan(d[\"rp_err1\"]) * np.isnan(d[\"rp_err2\"])\n",
    "\n",
    "d[\"rp\"][bad] = np.nan\n",
    "d[\"rp_err1\"][bad] = np.nan\n",
    "d[\"rp_err2\"][bad] = np.nan\n",
    "\n",
    "bad  = np.isnan(d[\"mp_err1\"]) * ~np.isnan(d[\"mp_err2\"])\n",
    "bad += ~np.isnan(d[\"mp_err1\"]) * np.isnan(d[\"mp_err2\"])\n",
    "\n",
    "d[\"mp\"][bad] = np.nan\n",
    "d[\"mp_err1\"][bad] = np.nan\n",
    "d[\"mp_err2\"][bad] = np.nan\n",
    "\n",
    "print(\"Flagged, {0} planets with only upper/lower limit on mass or radius\".format(np.sum(bad)))"
   ]
  },
  {
   "cell_type": "code",
   "execution_count": 13,
   "metadata": {},
   "outputs": [
    {
     "name": "stdout",
     "output_type": "stream",
     "text": [
      "\n",
      "Flagged 0 planets with no MASS uncertainty quoted\n",
      "The following systems host flagged planets:\n",
      "\n"
     ]
    }
   ],
   "source": [
    "# flag planets with no mass uncertainty quoted\n",
    "# only apply that flag for RV systems\n",
    "bad = ~np.isnan(d[\"mp\"]) * np.isnan(d[\"mp_err1\"]) * np.isnan(d[\"mp_err2\"]) * (d[\"disc_method\"]==\"Radial Velocity\")\n",
    "d[\"mp\"][bad] = np.nan\n",
    "\n",
    "\n",
    "print(\"\\nFlagged {0} planets with no MASS uncertainty quoted\".format(np.sum(bad)))\n",
    "print(\"The following systems host flagged planets:\\n\")\n",
    "\n",
    "for i, star in enumerate(np.unique(d[\"starname\"][bad])):\n",
    "    print(star)"
   ]
  },
  {
   "cell_type": "code",
   "execution_count": 14,
   "metadata": {},
   "outputs": [
    {
     "name": "stdout",
     "output_type": "stream",
     "text": [
      "\n",
      "Flagged 21 planets with no RADIUS uncertainty quoted\n",
      "The following systems host flagged planets:\n",
      "\n",
      "Kepler-23\n",
      "Kepler-24\n",
      "Kepler-305\n",
      "Kepler-385\n",
      "Kepler-431\n",
      "Kepler-49\n",
      "Kepler-52\n",
      "Kepler-53\n",
      "Kepler-54\n",
      "Kepler-55\n",
      "Kepler-58\n"
     ]
    }
   ],
   "source": [
    "# flag planets with no radius uncertainty quoted\n",
    "# only apply that flag to transit systems\n",
    "bad = ~np.isnan(d[\"rp\"]) * np.isnan(d[\"rp_err1\"]) * np.isnan(d[\"rp_err2\"]) * (d['disc_method'] == 'Transit')\n",
    "d[\"rp\"][bad] = np.nan\n",
    "\n",
    "print(\"\\nFlagged {0} planets with no RADIUS uncertainty quoted\".format(np.sum(bad)))\n",
    "print(\"The following systems host flagged planets:\\n\")\n",
    "\n",
    "for i, star in enumerate(np.unique(d[\"starname\"][bad])):\n",
    "    print(star)"
   ]
  },
  {
   "cell_type": "code",
   "execution_count": 15,
   "metadata": {},
   "outputs": [
    {
     "name": "stdout",
     "output_type": "stream",
     "text": [
      "\n",
      "After removals, 806 objects in 234 systems remain\n"
     ]
    }
   ],
   "source": [
    "# removes planets missing both a mass and radius (must have at least one)\n",
    "# for now, flag planets and see what's going on \n",
    "bad = np.isnan(d[\"mp\"])*np.isnan(d[\"rp\"]) + \\\n",
    "(np.isnan(d['mp'])*(d['disc_method']=='Radial Velocity')) + \\\n",
    "(np.isnan(d['rp'])*(d['disc_method']=='Transit'))\n",
    "    \n",
    "for k in d.keys():\n",
    "    d[k] = d[k][~bad]\n",
    "    \n",
    "print(\"\\nAfter removals, {0} objects in {1} systems remain\"\n",
    "      .format(np.sum(~bad), len(np.unique(d[\"starname\"]))))"
   ]
  },
  {
   "cell_type": "code",
   "execution_count": 16,
   "metadata": {},
   "outputs": [
    {
     "data": {
      "image/png": "[encoded data removed]",
      "text/plain": [
       "<Figure size 1296x360 with 2 Axes>"
      ]
     },
     "metadata": {
      "needs_background": "light"
     },
     "output_type": "display_data"
    },
    {
     "name": "stdout",
     "output_type": "stream",
     "text": [
      "Removed planets with large uncertainties from the following systems\n",
      "K2-183\n",
      "K2-266\n",
      "Kepler-148\n",
      "Kepler-166\n",
      "Kepler-171\n",
      "Kepler-176\n",
      "Kepler-178\n",
      "Kepler-184\n",
      "Kepler-191\n",
      "Kepler-194\n",
      "Kepler-222\n",
      "Kepler-226\n",
      "Kepler-228\n",
      "Kepler-244\n",
      "Kepler-250\n",
      "Kepler-253\n",
      "Kepler-254\n",
      "Kepler-255\n",
      "Kepler-272\n",
      "Kepler-276\n",
      "Kepler-288\n",
      "Kepler-295\n",
      "Kepler-301\n",
      "Kepler-310\n",
      "Kepler-325\n",
      "Kepler-339\n",
      "Kepler-341\n",
      "Kepler-351\n",
      "Kepler-357\n",
      "Kepler-372\n",
      "Kepler-374\n",
      "Kepler-385\n",
      "Kepler-399\n",
      "Kepler-46\n",
      "Kepler-47\n",
      "Kepler-53\n",
      "Kepler-58\n",
      "\n",
      "After removals, 714 objects in 208 systems remain\n"
     ]
    }
   ],
   "source": [
    "# check for planets with large relative mass or radius uncertainties\n",
    "mass_mu = np.copy(d[\"mp\"])\n",
    "mass_std = np.sqrt(d[\"mp_err1\"]**2 + d[\"mp_err2\"]**2)/np.sqrt(2)\n",
    "\n",
    "radius_mu = np.copy(d[\"rp\"])\n",
    "radius_std = np.sqrt(d[\"rp_err1\"]**2 + d[\"rp_err2\"]**2)/np.sqrt(2)\n",
    "\n",
    "\n",
    "# here's a histogram\n",
    "fig, ax = plt.subplots(1,2, figsize=(18,5))\n",
    "ax[0].hist(radius_std/radius_mu, bins=np.linspace(0,0.6,39), color=\"cornflowerblue\")\n",
    "ax[0].axvline(0.39, color=\"navy\", lw=3)\n",
    "ax[0].set_xlabel(r\"$\\sigma_r/r_p$\", fontsize=20)\n",
    "ax[1].hist(mass_std/mass_mu, bins=np.linspace(0,1.1,42), color=\"orange\")\n",
    "ax[1].axvline(1.0, color=\"red\", lw=3)\n",
    "ax[1].set_xlabel(r\"$\\sigma_m/m_p$\", fontsize=20)\n",
    "plt.show()\n",
    "\n",
    "\n",
    "# remove the planets with large uncertainties\n",
    "bad = (radius_std/radius_mu > 0.39) + (mass_std/mass_mu > 1.0)\n",
    "\n",
    "print(\"Removed planets with large uncertainties from the following systems\")\n",
    "for star in np.unique(d[\"starname\"][bad]):\n",
    "    print(star)\n",
    "    \n",
    "for k in d.keys():\n",
    "    d[k] = d[k][~bad]\n",
    "    \n",
    "print(\"\\nAfter removals, {0} objects in {1} systems remain\"\n",
    "      .format(np.sum(~bad), len(np.unique(d[\"starname\"]))))"
   ]
  },
  {
   "cell_type": "code",
   "execution_count": 17,
   "metadata": {},
   "outputs": [
    {
     "name": "stderr",
     "output_type": "stream",
     "text": [
      "./forecaster\\mr_forecast.py:130: RuntimeWarning: divide by zero encountered in double_scalars\n",
      "  mass = truncnorm.rvs( (mlower-mean)/std, (mupper-mean)/std, loc=mean, scale=std, size=sample_size)\n"
     ]
    },
    {
     "data": {
      "image/png": "[encoded data removed]",
      "text/plain": [
       "<Figure size 432x288 with 1 Axes>"
      ]
     },
     "metadata": {
      "needs_background": "light"
     },
     "output_type": "display_data"
    }
   ],
   "source": [
    "# determine the nominal minimum radius of any planet discovered by RVs\n",
    "# use Chen & Kipping (2017) to convert mass to radius\n",
    "\n",
    "rv_mass = d[\"mp\"][d[\"disc_method\"] == \"Radial Velocity\"]\n",
    "rv_mass_err1 = d[\"mp_err1\"][d[\"disc_method\"] == \"Radial Velocity\"]\n",
    "rv_mass_err2 = d[\"mp_err2\"][d[\"disc_method\"] == \"Radial Velocity\"]\n",
    "rv_mass_err  = np.sqrt(rv_mass_err1**2 + rv_mass_err2**2)/np.sqrt(2)\n",
    "\n",
    "bad = (rv_mass_err > 0.5*rv_mass) + np.isnan(rv_mass) + np.isnan(rv_mass_err)\n",
    "\n",
    "rv_mass = rv_mass[~bad]\n",
    "rv_mass_err = rv_mass_err[~bad]\n",
    "\n",
    "rv_nominal_radius = np.zeros_like(rv_mass)\n",
    "rv_stellar_radius = d[\"rs\"][d[\"disc_method\"] == \"Radial Velocity\"][~bad]\n",
    "\n",
    "for i, rvm in enumerate(rv_mass):\n",
    "    rv_nominal_radius[i] = mr.Mstat2R(rvm, rv_mass_err[i], sample_size=1000)[0]\n",
    "\n",
    "min_rv_radius = np.min(rv_nominal_radius[~np.isnan(rv_nominal_radius)])\n",
    "    \n",
    "nominal_rprs = (rv_nominal_radius*REARTH)/(rv_stellar_radius*RSUN)\n",
    "min_rv_rprs = np.min(nominal_rprs[~np.isnan(nominal_rprs)])\n",
    "\n",
    "plt.figure()\n",
    "plt.plot(np.log10(rv_mass), np.log10(rv_nominal_radius), \"k.\")\n",
    "plt.xlabel(\"log10(mass)\", fontsize=20)\n",
    "plt.ylabel(\"log10(radius)\", fontsize=20)\n",
    "plt.show()"
   ]
  },
  {
   "cell_type": "code",
   "execution_count": 18,
   "metadata": {},
   "outputs": [
    {
     "name": "stdout",
     "output_type": "stream",
     "text": [
      "After removing long period and small radius objects, 609 planets in 171 systems remain\n"
     ]
    }
   ],
   "source": [
    "# remove very small transiting planets (that wouldn't be discovered by RV)\n",
    "# remove very long period RV planets (that wouldn't be discovered by Kepler)\n",
    "# don't throw out the NaN values, which indicate missing data (e.g no radius for some RV planets)\n",
    "\n",
    "d['rprs'] = (d['rp']*REARTH)/(d['rs']*RSUN)\n",
    "\n",
    "keep = (d[\"rprs\"] >= min_rv_rprs) + ((np.isnan(d[\"rprs\"]))+(d['rprs']==0) * (d[\"p\"] < 1460.))\n",
    "for k in d.keys():\n",
    "    d[k] = d[k][keep]\n",
    "\n",
    "    \n",
    "# recount the planets in each system and eliminate systems reduced to fewer than 3 planets\n",
    "for i, s in enumerate(d[\"starname\"]):\n",
    "    d[\"npl\"][i] = int(np.sum(d[\"starname\"] == s))\n",
    "    \n",
    "keep = d[\"npl\"] >= 3\n",
    "\n",
    "for k in d.keys():\n",
    "    d[k] = d[k][keep]\n",
    "    \n",
    "\n",
    "print(\"After removing long period and small radius objects, {0} planets in {1} systems remain\"\n",
    "      .format(len(d[\"starname\"]), len(np.unique(d[\"starname\"]))))"
   ]
  },
  {
   "cell_type": "code",
   "execution_count": 19,
   "metadata": {},
   "outputs": [
    {
     "name": "stdout",
     "output_type": "stream",
     "text": [
      "After removing systems with N < 3, 137 objects in 38 systems remain\n"
     ]
    }
   ],
   "source": [
    "# recount the planets in each system\n",
    "d[\"npl\"] = np.zeros(len(d[\"starname\"]), dtype=\"int\")\n",
    "\n",
    "for i, s in enumerate(d[\"starname\"]):\n",
    "    d[\"npl\"][i] = int(np.sum(d[\"starname\"] == s))\n",
    "    \n",
    "\n",
    "# remove systems with fewer than 3 planets and not Radial Velocity\n",
    "keep = (d[\"npl\"] >= 3)*(d['disc_method'] == 'Radial Velocity')\n",
    "\n",
    "for k in d.keys():\n",
    "    d[k] = d[k][keep]\n",
    "    \n",
    "print(\"After removing systems with N < 3, {0} objects in {1} systems remain\"\n",
    "      .format(np.sum(keep), len(np.unique(d[\"starname\"]))))"
   ]
  },
  {
   "cell_type": "code",
   "execution_count": 20,
   "metadata": {},
   "outputs": [],
   "source": [
    "systems = []\n",
    "\n",
    "for i, star in enumerate(np.unique(d['starname'])):\n",
    "    use = d['starname'] == star\n",
    "    \n",
    "    s = System()\n",
    "    \n",
    "    s.starname = d['starname'][use][0]\n",
    "    s.Mstar = d['ms'][use][0]\n",
    "    s.Mstar_upper = d['ms_lower'][use][0]\n",
    "    s.Mstar_lower = d['ms_upper'][use][0]\n",
    "    s.Rstar = d['rs'][use][0]\n",
    "    s.Rstar_upper = d['rs_lower'][use][0]\n",
    "    s.Rstar_lower = d['rs_upper'][use][0]\n",
    "    \n",
    "    s.mag = d['mag'][use][0]\n",
    "    s.temp = d['temp'][use][0]\n",
    "    s.instrument = d['instrument'][use][0]\n",
    "    s.ref = d['ref'][use][0]\n",
    "    \n",
    "    systems.append(s)"
   ]
  },
  {
   "cell_type": "code",
   "execution_count": 21,
   "metadata": {
    "scrolled": true
   },
   "outputs": [
    {
     "name": "stdout",
     "output_type": "stream",
     "text": [
      "38\n"
     ]
    }
   ],
   "source": [
    "print(len(systems))\n",
    "\n",
    "# Generates Latex table\n",
    "# Need to implement formatting the reference\n",
    "\n",
    "rows = []\n",
    "for s in systems:\n",
    "    row = [0]*11\n",
    "    row[0] = s.starname\n",
    "    row[1] = s.Mstar\n",
    "    row[2] = s.Mstar_upper\n",
    "    row[3] = s.Mstar_lower\n",
    "    row[4] = s.Rstar\n",
    "    row[5] = s.Rstar_upper\n",
    "    row[6] = s.Rstar_lower\n",
    "    row[7] = s.mag\n",
    "    row[8] = s.temp\n",
    "    row[9] = s.instrument\n",
    "    row[10] = s.ref\n",
    "    rows.append(row)"
   ]
  },
  {
   "cell_type": "code",
   "execution_count": 22,
   "metadata": {
    "scrolled": false
   },
   "outputs": [
    {
     "name": "stdout",
     "output_type": "stream",
     "text": [
      "\n",
      "Tabulate Latex:\n",
      "\\begin{tabular}{lrrrrrrrrll}\n",
      "\\hline\n",
      " 47 UMa    &   1.06 &   -0.13 &   0.13 &   1.21 &   -0.05 &   0.05 &   5.03352 &   5872.0 & Lick Observatory                   & \\ensuremath{<}a refstr=STASSUN\\_ET\\_AL\\_\\_2019 href=https://ui.adsabs.harvard.edu/abs/2019AJ....158..138S/abstract target=ref\\ensuremath{>}TICv8\\ensuremath{<}/a\\ensuremath{>}                               \\\\\n",
      "\\hline\n",
      " 55 Cnc    &  1.015 &  -0.051 &  0.051 &  0.98  & -0.016  & 0.016  &   5.95084 &      nan & Lick Observatory                   & \\ensuremath{<}a refstr=BALUEV\\_2015 href=https://ui.adsabs.harvard.edu/abs/2015MNRAS.446.1493B/abstract target=ref\\ensuremath{>}Baluev 2015\\ensuremath{<}/a\\ensuremath{>}                                 \\\\\n",
      " 61 Vir    &  0.94  &  -0.03  &  0.03  &  0.96  & -0.01   & 0.01   &   4.6955  &     5577 & Multiple Observatories             & \\ensuremath{<}a refstr=VOGT\\_ET\\_AL\\_\\_2010 href=https://ui.adsabs.harvard.edu/abs/2010ApJ...708.1366V/abstract target=ref\\ensuremath{>} Vogt et al. 2010 \\ensuremath{<}/a\\ensuremath{>}                     \\\\\n",
      " DMPP-1    &  1.21  &  -0.03  &  0.03  &  1.26  & -0.02   & 0.02   &   7.98    &     6196 & La Silla Observatory               & \\ensuremath{<}a refstr=STAAB\\_ET\\_AL\\_\\_2020 href=https://ui.adsabs.harvard.edu/abs/2020NatAs...4..399S/abstract target=ref\\ensuremath{>}Staab et al. 2020\\ensuremath{<}/a\\ensuremath{>}                     \\\\\n",
      " GJ 1061   &  0.12  &  -0.01  &  0.01  &  0.16  & -0.01   & 0.01   &  12.7     &     2953 & La Silla Observatory               & \\ensuremath{<}a refstr=DREIZLER\\_ET\\_AL\\_\\_2020 href=https://ui.adsabs.harvard.edu/abs/2020MNRAS.493..536D/abstract target=ref\\ensuremath{>}Dreizler et al. 2020\\ensuremath{<}/a\\ensuremath{>}               \\\\\n",
      " GJ 163    &  0.4   &  -0.02  &  0.02  &  0.41  & -0.01   & 0.01   &  11.79    &      nan & La Silla Observatory               & \\ensuremath{<}a refstr=BONFILS\\_ET\\_AL\\_\\_2013 href=https://ui.adsabs.harvard.edu/abs/2013A\\%26A...556A.110B/abstract target=ref\\ensuremath{>} Bonfils et al. 2013 \\ensuremath{<}/a\\ensuremath{>}             \\\\\n",
      " GJ 180    &  0.432 &  -0.005 &  0.005 &  0.423 & -0.005  & 0.005  &  10.914   &      nan & Multiple Observatories             & \\ensuremath{<}a refstr=FENG\\_ET\\_AL\\_\\_2020 href=https://ui.adsabs.harvard.edu/abs/2020ApJS..246...11F/abstract target=ref\\ensuremath{>}Feng et al. 2020\\ensuremath{<}/a\\ensuremath{>}                       \\\\\n",
      " GJ 3138   &  0.62  &  -0.08  &  0.08  &  0.5   & -0.03   & 0.03   &  10.8275  &     3717 & La Silla Observatory               & \\ensuremath{<}a refstr=ASTUDILLO\\_DEFRU\\_ET\\_AL\\_\\_2017 href=https://ui.adsabs.harvard.edu/abs/2017A\\&A...602A..88A/abstract target=ref\\ensuremath{>}Astudillo-Defru et al. 2017\\ensuremath{<}/a\\ensuremath{>} \\\\\n",
      " GJ 3293   &  0.45  &  -0.02  &  0.02  &  0.4   & -0.03   & 0.03   &  11.945   &     3466 & La Silla Observatory               & \\ensuremath{<}a refstr=ASTUDILLO\\_DEFRU\\_ET\\_AL\\_\\_2017 href=https://ui.adsabs.harvard.edu/abs/2017A\\&A...602A..88A/abstract target=ref\\ensuremath{>}Astudillo-Defru et al. 2017\\ensuremath{<}/a\\ensuremath{>} \\\\\n",
      " GJ 433    &  0.46  &  -0.05  &  0.05  &  0.46  & -0.05   & 0.05   &   9.81    &      nan & La Silla Observatory               & \\ensuremath{<}a refstr=FENG\\_ET\\_AL\\_\\_2020 href=https://ui.adsabs.harvard.edu/abs/2020ApJS..246...11F/abstract target=ref\\ensuremath{>}Feng et al. 2020\\ensuremath{<}/a\\ensuremath{>}                       \\\\\n",
      " GJ 581    &  0.31  &  -0.02  &  0.02  &  0.33  & -0.01   & 0.01   &  10.57    &     3396 & La Silla Observatory               & \\ensuremath{<}a refstr=STASSUN\\_ET\\_AL\\_\\_2019 href=https://ui.adsabs.harvard.edu/abs/2019AJ....158..138S/abstract target=ref\\ensuremath{>}TICv8\\ensuremath{<}/a\\ensuremath{>}                               \\\\\n",
      " GJ 676 A  &  0.73  &  -0.21  &  0.21  &  0.69  & -0.07   & 0.07   &   9.58    &     3734 & La Silla Observatory               & \\ensuremath{<}a refstr=STASSUN\\_ET\\_AL\\_\\_2017 href=https://ui.adsabs.harvard.edu/abs/2017AJ....153..136S/abstract target=ref\\ensuremath{>}Stassun et al. 2017\\ensuremath{<}/a\\ensuremath{>}                 \\\\\n",
      " GJ 876    &  0.32  &  -0.03  &  0.03  &  0.35  & -0.0984 & 0.0984 &  10.16    &      nan & Multiple Observatories             & \\ensuremath{<}a refstr=RIVERA\\_ET\\_AL\\_\\_2010 href=https://ui.adsabs.harvard.edu/abs/2010ApJ...719..890R/abstract target=ref\\ensuremath{>} Rivera et al. 2010 \\ensuremath{<}/a\\ensuremath{>}                 \\\\\n",
      " HD 10180  &  1.06  &  -0.05  &  0.05  &  1.11  & -0.04   & 0.04   &   7.33    &     5911 & La Silla Observatory               & \\ensuremath{<}a refstr=KANE\\_\\_AMP\\_\\_GELINO\\_2014 href=https://ui.adsabs.harvard.edu/abs/2014ApJ...792..111K/abstract target=ref\\ensuremath{>}Kane \\&amp; Gelino 2014\\ensuremath{<}/a\\ensuremath{>}           \\\\\n",
      " HD 125612 &  1.11  &  -0.2   &  0.2   &  1.05  & -0.07   & 0.07   &   8.31    &     5841 & W. M. Keck Observatory             & \\ensuremath{<}a refstr=MENT\\_ET\\_AL\\_\\_2018 href=https://ui.adsabs.harvard.edu/abs/2018AJ....156..213M/abstract target=ref\\ensuremath{>}Ment et al. 2018\\ensuremath{<}/a\\ensuremath{>}                       \\\\\n",
      " HD 136352 &  0.906 &  -0.055 &  0.055 &  1.02  & -0.02   & 0.02   &   5.65    &     5664 & La Silla Observatory               & \\ensuremath{<}a refstr=UDRY\\_ET\\_AL\\_\\_2019 href=https://ui.adsabs.harvard.edu/abs/2019A\\&A...622A..37U/abstract target=ref\\ensuremath{>}Udry et al. 2019\\ensuremath{<}/a\\ensuremath{>}                       \\\\\n",
      " HD 141399 &  1.07  &  -0.08  &  0.08  &  1.46  & -0.15   & 0.15   &   7.20856 &     5600 & Multiple Observatories             & \\ensuremath{<}a refstr=H\\_EACUTE\\_BRARD\\_ET\\_AL\\_\\_2016 href=https://ui.adsabs.harvard.edu/abs/2016A\\&A...588A.145H/abstract target=ref\\ensuremath{>}H\\&eacute;brard et al. 2016\\ensuremath{<}/a\\ensuremath{>}   \\\\\n",
      " HD 158259 &  1.08  &  -0.1   &  0.1   &  1.21  & -0.03   & 0.03   &   6.47915 &      nan & Haute-Provence Observatory         & \\ensuremath{<}a refstr=HARA\\_ET\\_AL\\_\\_2020 href=https://ui.adsabs.harvard.edu/abs/2020A\\&A...636L...6H/abstract target=ref\\ensuremath{>}Hara et al. 2020\\ensuremath{<}/a\\ensuremath{>}                       \\\\\n",
      " HD 160691 &  1.1   &  -0.02  &  0.02  &  1.36  & -0.06   & 0.06   &   5.12    &      nan & Anglo-Australian Telescope         & \\ensuremath{<}a refstr=PEPE\\_ET\\_AL\\_\\_2007 href=https://ui.adsabs.harvard.edu/abs/2007A\\&A...462..769P/abstract target=ref\\ensuremath{>} Pepe et al. 2007 \\ensuremath{<}/a\\ensuremath{>}                     \\\\\n",
      " HD 164922 &  0.93  &  -0.03  &  0.03  &  0.95  & -0.01   & 0.01   &   7.01227 &     5390 & W. M. Keck Observatory             & \\ensuremath{<}a refstr=BENATTI\\_ET\\_AL\\_\\_2020 href=https://ui.adsabs.harvard.edu/abs/2020arXiv200503368B/abstract target=ref\\ensuremath{>}Benatti et al. 2020\\ensuremath{<}/a\\ensuremath{>}                 \\\\\n",
      " HD 181433 &  0.81  &  -0.09  &  0.09  &  0.81  & -0.07   & 0.07   &   8.4     &     4918 & La Silla Observatory               & \\ensuremath{<}a refstr=STASSUN\\_ET\\_AL\\_\\_2017 href=https://ui.adsabs.harvard.edu/abs/2017AJ....153..136S/abstract target=ref\\ensuremath{>}Stassun et al. 2017\\ensuremath{<}/a\\ensuremath{>}                 \\\\\n",
      " HD 20781  &  0.9   &  -0.12  &  0.12  &  0.86  & -0.06   & 0.06   &   8.48    &     5256 & La Silla Observatory               & \\ensuremath{<}a refstr=UDRY\\_ET\\_AL\\_\\_2019 href=https://ui.adsabs.harvard.edu/abs/2019A\\&A...622A..37U/abstract target=ref\\ensuremath{>}Udry et al. 2019\\ensuremath{<}/a\\ensuremath{>}                       \\\\\n",
      " HD 20794  &  0.813 &  -0.018 &  0.018 &  0.9   & -0.03   & 0.03   &   4.26    &     5401 & La Silla Observatory               & \\ensuremath{<}a refstr=PEPE\\_ET\\_AL\\_\\_2011 href=https://ui.adsabs.harvard.edu/abs/2011A\\%26A...534A..58P/abstract target=ref\\ensuremath{>} Pepe et al. 2011 \\ensuremath{<}/a\\ensuremath{>}                   \\\\\n",
      " HD 215152 &  0.77  &  -0.01  &  0.01  &  0.73  & -0.02   & 0.02   &   8.11    &     4935 & La Silla Observatory               & \\ensuremath{<}a refstr=DELISLE\\_ET\\_AL\\_\\_2018 href=https://ui.adsabs.harvard.edu/abs/2018A\\&A...614A.133D/abstract target=ref\\ensuremath{>}Delisle et al. 2018\\ensuremath{<}/a\\ensuremath{>}                 \\\\\n",
      " HD 219134 &  0.81  &  -0.03  &  0.03  &  0.78  & -0.01   & 0.01   &   5.56911 &     4699 & Roque de los Muchachos Observatory & \\ensuremath{<}a refstr=GILLON\\_ET\\_AL\\_\\_2017 href=https://ui.adsabs.harvard.edu/abs/2017NatAs...1E..56G/abstract target=ref\\ensuremath{>}Gillon et al. 2017\\ensuremath{<}/a\\ensuremath{>}                   \\\\\n",
      " HD 27894  &  0.81  &  -0.11  &  0.11  &  0.85  & -0.05   & 0.05   &   9.36    &      nan & La Silla Observatory               & \\ensuremath{<}a refstr=TRIFONOV\\_ET\\_AL\\_\\_2017 href=https://ui.adsabs.harvard.edu/abs/2017A\\&A...602L...8T/abstract target=ref\\ensuremath{>}Trifonov et al. 2017\\ensuremath{<}/a\\ensuremath{>}               \\\\\n",
      " HD 31527  &  1.07  &  -0.15  &  0.15  &  1.077 & -0.046  & 0.046  &   7.49    &     5898 & La Silla Observatory               & \\ensuremath{<}a refstr=UDRY\\_ET\\_AL\\_\\_2019 href=https://ui.adsabs.harvard.edu/abs/2019A\\&A...622A..37U/abstract target=ref\\ensuremath{>}Udry et al. 2019\\ensuremath{<}/a\\ensuremath{>}                       \\\\\n",
      " HD 34445  &  1.14  &  -0.09  &  0.09  &  1.38  & -0.02   & 0.02   &   7.31    &     5879 & W. M. Keck Observatory             & \\ensuremath{<}a refstr=STASSUN\\_ET\\_AL\\_\\_2017 href=https://ui.adsabs.harvard.edu/abs/2017AJ....153..136S/abstract target=ref\\ensuremath{>}Stassun et al. 2017\\ensuremath{<}/a\\ensuremath{>}                 \\\\\n",
      " HD 37124  &  0.99  &  -0.14  &  0.14  &  0.93  & -0.04   & 0.04   &   7.68    &      nan & W. M. Keck Observatory             & \\ensuremath{<}a refstr=WRIGHT\\_ET\\_AL\\_\\_2011 href=https://ui.adsabs.harvard.edu/abs/2011ApJ...730...93W/abstract target=ref\\ensuremath{>}Wright et al. 2011\\ensuremath{<}/a\\ensuremath{>}                   \\\\\n",
      " HD 40307  &  0.77  &  -0.05  &  0.05  &  0.71  & -0.01   & 0.01   &   7.17    &     4956 & La Silla Observatory               & \\ensuremath{<}a refstr=TUOMI\\_ET\\_AL\\_\\_2013 href=https://ui.adsabs.harvard.edu/abs/2013A\\%26A...549A..48T/abstract target=ref\\ensuremath{>} Tuomi et al. 2013 \\ensuremath{<}/a\\ensuremath{>}                 \\\\\n",
      " HD 69830  &  0.86  &  -0.03  &  0.03  &  0.91  & -0.019  & 0.019  &   5.96004 &     5385 & La Silla Observatory               & \\ensuremath{<}a refstr=LOVIS\\_ET\\_AL\\_\\_2006 href=https://ui.adsabs.harvard.edu/abs/2006Natur.441..305L/abstract target=ref\\ensuremath{>} Lovis et al. 2006 \\ensuremath{<}/a\\ensuremath{>}                   \\\\\n",
      " HD 7924   &  0.65  &  -0.05  &  0.05  &  0.78  & -0.01   & 0.01   &   7.17896 &     5131 & W. M. Keck Observatory             & \\ensuremath{<}a refstr=STASSUN\\_ET\\_AL\\_\\_2017 href=https://ui.adsabs.harvard.edu/abs/2017AJ....153..136S/abstract target=ref\\ensuremath{>}Stassun et al. 2017\\ensuremath{<}/a\\ensuremath{>}                 \\\\\n",
      " HIP 14810 &  1.01  &  -0.19  &  0.19  &  1.07  & -0.08   & 0.08   &   8.52    &     5544 & W. M. Keck Observatory             & \\ensuremath{<}a refstr=MENT\\_ET\\_AL\\_\\_2018 href=https://ui.adsabs.harvard.edu/abs/2018AJ....156..213M/abstract target=ref\\ensuremath{>}Ment et al. 2018\\ensuremath{<}/a\\ensuremath{>}                       \\\\\n",
      " HIP 57274 &  0.29  &  -0.3   &  0.3   &  0.78  & -0.05   & 0.05   &   8.97    &     4510 & W. M. Keck Observatory             & \\ensuremath{<}a refstr=STASSUN\\_ET\\_AL\\_\\_2017 href=https://ui.adsabs.harvard.edu/abs/2017AJ....153..136S/abstract target=ref\\ensuremath{>}Stassun et al. 2017\\ensuremath{<}/a\\ensuremath{>}                 \\\\\n",
      " Wolf 1061 &  0.25  &  -0.116 &  0.116 &  0.31  & -0.03   & 0.03   &  10.1     &     3342 & La Silla Observatory               & \\ensuremath{<}a refstr=ASTUDILLO\\_DEFRU\\_ET\\_AL\\_\\_2017 href=https://ui.adsabs.harvard.edu/abs/2017A\\&A...602A..88A/abstract target=ref\\ensuremath{>}Astudillo-Defru et al. 2017\\ensuremath{<}/a\\ensuremath{>} \\\\\n",
      " YZ Cet    &  0.13  &  -0.01  &  0.01  &  0.17  & -0.01   & 0.01   & nan       &     3056 & La Silla Observatory               & \\ensuremath{<}a refstr=ASTUDILLO\\_DEFRU\\_ET\\_AL\\_\\_2017 href=https://ui.adsabs.harvard.edu/abs/2017A\\&A...605L..11A/abstract target=ref\\ensuremath{>}Astudillo-Defru et al. 2017\\ensuremath{<}/a\\ensuremath{>} \\\\\n",
      " tau Cet   &  0.78  &  -0.01  &  0.01  &  0.793 & -0.004  & 0.004  &   3.49607 &      nan & Multiple Observatories             & \\ensuremath{<}a refstr=FENG\\_ET\\_AL\\_\\_2017 href=https://ui.adsabs.harvard.edu/abs/2017AJ....154..135F/abstract target=ref\\ensuremath{>}Feng et al. 2017\\ensuremath{<}/a\\ensuremath{>}                       \\\\\n",
      " ups And   &  1.15  &  -0.165 &  0.165 &  1.48  & -0.087  & 0.087  &   4.09565 &      nan & Lick Observatory                   & \\ensuremath{<}a refstr=CURIEL\\_ET\\_AL\\_\\_2011 href=https://ui.adsabs.harvard.edu/abs/2011A\\&A...525A..78C/abstract target=ref\\ensuremath{>} Curiel et al. 2011 \\ensuremath{<}/a\\ensuremath{>}                 \\\\\n",
      "\\hline\n",
      "\\end{tabular}\n"
     ]
    }
   ],
   "source": [
    "print('\\nTabulate Latex:')\n",
    "print(tabulate(rows, headers='firstrow', tablefmt='latex'))"
   ]
  },
  {
   "cell_type": "code",
   "execution_count": null,
   "metadata": {},
   "outputs": [],
   "source": []
  }
 ],
 "metadata": {
  "kernelspec": {
   "display_name": "Python 3",
   "language": "python",
   "name": "python3"
  },
  "language_info": {
   "codemirror_mode": {
    "name": "ipython",
    "version": 3
   },
   "file_extension": ".py",
   "mimetype": "text/x-python",
   "name": "python",
   "nbconvert_exporter": "python",
   "pygments_lexer": "ipython3",
   "version": "3.8.5"
  }
 },
 "nbformat": 4,
 "nbformat_minor": 4
}
