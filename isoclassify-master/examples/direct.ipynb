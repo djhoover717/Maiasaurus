{
 "cells": [
  {
   "cell_type": "markdown",
   "metadata": {
    "collapsed": true
   },
   "source": [
    "# Direct method example\n",
    "\n",
    "An example use of isoclassify's direct method. Prefered use is through the command-line interface (see README)."
   ]
  },
  {
   "cell_type": "code",
   "execution_count": 1,
   "metadata": {},
   "outputs": [],
   "source": [
    "%matplotlib inline\n",
    "%reload_ext autoreload\n",
    "%autoreload 2\n",
    "\n",
    "import os \n",
    "import h5py\n",
    "import numpy as np\n",
    "import astropy.units as units\n",
    "import sys\n",
    "sys.path.insert(0, \"C:/Users/djhoo/Documents/Oviraptor-master/isoclassify-master/\")\n",
    "\n",
    "from isoclassify import DATADIR\n",
    "from isoclassify.direct import classify as classify_direct\n",
    "from isoclassify.extinction import query_dustmodel_coords"
   ]
  },
  {
   "cell_type": "markdown",
   "metadata": {},
   "source": [
    "## Bolometric corrections model\n",
    "\n",
    "Load the BC model."
   ]
  },
  {
   "cell_type": "code",
   "execution_count": 2,
   "metadata": {},
   "outputs": [],
   "source": [
    "fn = os.path.join(\"C:/Users/djhoo/Documents/Oviraptor-master/isoclassify-master/isoclassify/grid\",'bcgrid.h5')\n",
    "bcmodel = h5py.File(fn,'r', driver='core', backing_store=False)"
   ]
  },
  {
   "cell_type": "markdown",
   "metadata": {},
   "source": [
    "## Reddening maps\n",
    "\n",
    "We first initialise the observational data and give it some arbitrary coordinates."
   ]
  },
  {
   "cell_type": "code",
   "execution_count": 3,
   "metadata": {},
   "outputs": [],
   "source": [
    "x = classify_direct.obsdata()\n",
    "x.addcoords(292.0826387546914, 37.05987401545169)"
   ]
  },
  {
   "cell_type": "markdown",
   "metadata": {},
   "source": [
    "We then specify the reddening (dust) map to use. Here, we choose [Green et al. (2019)](https://ui.adsabs.harvard.edu/abs/2019ApJ...887...93G/abstract), a.k.a. Bayestar19 (see [here](http://argonaut.skymaps.info/usage#intro) for more information).\n",
    "\n",
    "If we don't want to use a reddening map, isoclassify fits for Av. In this case specify `dustmap = 'none'`. Alternatively, if you want to assume no reddening, use `dustmap = 'zero'`. In both cases, the [Cardelli et al. (1989)](https://ui.adsabs.harvard.edu/abs/1989ApJ...345..245C/abstract) reddening law is assumed."
   ]
  },
  {
   "cell_type": "code",
   "execution_count": 4,
   "metadata": {},
   "outputs": [
    {
     "name": "stdout",
     "output_type": "stream",
     "text": [
      "Fitting for reddening.\n"
     ]
    }
   ],
   "source": [
    "#dustmap = 'green19'\n",
    "dustmap = 'none'\n",
    "dustmodel, ext = query_dustmodel_coords(x.ra, x.dec, dustmap)"
   ]
  },
  {
   "cell_type": "markdown",
   "metadata": {},
   "source": [
    "## Observational data\n",
    "\n",
    "We add some observational data for the star."
   ]
  },
  {
   "cell_type": "code",
   "execution_count": 5,
   "metadata": {},
   "outputs": [],
   "source": [
    "# works for Teff < 4100?\n",
    "\n",
    "# SPECTROSCOPY \n",
    "# [Teff, logg, FeH] and [sigma_Teff, sigma_logg, sigma_FeH] \n",
    "x.addspec([5777.,4.44,0.0],[60.,0.07,0.04])\n",
    "\n",
    "# PARALLAX\n",
    "x.addplx(0.07,0.007)\n",
    "\n",
    "# 2MASS PHOTOMETRY\n",
    "x.addjhk([4.38,4.04,4.00],[0.03,0.03,0.03])\n",
    "\n",
    "# MAGNITUDE\n",
    "# To use for the distance modulus\n",
    "x.addmag([4.38],[0.03])"
   ]
  },
  {
   "cell_type": "markdown",
   "metadata": {},
   "source": [
    "## Fit\n",
    "\n",
    "We perform the fit using isoclassify's direct method and the inputs described above."
   ]
  },
  {
   "cell_type": "code",
   "execution_count": 6,
   "metadata": {},
   "outputs": [
    {
     "name": "stdout",
     "output_type": "stream",
     "text": [
      "using max distance: 23.800000000000004\n",
      "using min distance: 10.5\n",
      "   \n",
      "teff(K): 5777.0 +/- 60.0\n",
      "dis(pc): 14.905137051370517 + 1.7616238962389623 - 1.4245772457724613\n",
      "av(mag): 0.0 + 0.0 - 0.0\n",
      "rad(rsun): 1.067317915329926 + 0.13027858329140418 - 0.10639953762683496\n",
      "lum(lsun): 1.139501714628572 + 0.2884038778291982 - 0.2114739527051822\n",
      "mabs( jmag ): 3.512272606161443 + 0.22288503672344984 - 0.2449612788155764\n",
      "fbol(cgs): 1.6394871511814967e-07 + 6.320896208616235e-09 - 6.077080521108468e-09\n",
      "mass(msun): 0.0 + 0.0 - 0.0\n",
      "density(rhosun): 0.0 + 0.0 - 0.0\n",
      "-----\n"
     ]
    },
    {
     "data": {
      "image/png": "[encoded data removed]",
      "text/plain": [
       "<Figure size 720x432 with 6 Axes>"
      ]
     },
     "metadata": {
      "needs_background": "light"
     },
     "output_type": "display_data"
    }
   ],
   "source": [
    "paras = classify_direct.stparas(x, bcmodel=bcmodel, dustmodel=dustmodel, band='jmag', ext=ext, plot=1)"
   ]
  },
  {
   "cell_type": "markdown",
   "metadata": {},
   "source": [
    "NB: currently, spread on the Av posterior is only due to its variation within the distance uncertainty. It appears Bayestar19 varies very little with distance, hence the extremely narrow posterior. An assumed uncertainty of 0.02 is made in the code for the propagation of uncertainty."
   ]
  },
  {
   "cell_type": "code",
   "execution_count": null,
   "metadata": {},
   "outputs": [],
   "source": []
  }
 ],
 "metadata": {
  "kernelspec": {
   "display_name": "Python 3",
   "language": "python",
   "name": "python3"
  },
  "language_info": {
   "codemirror_mode": {
    "name": "ipython",
    "version": 3
   },
   "file_extension": ".py",
   "mimetype": "text/x-python",
   "name": "python",
   "nbconvert_exporter": "python",
   "pygments_lexer": "ipython3",
   "version": "3.8.5"
  }
 },
 "nbformat": 4,
 "nbformat_minor": 1
}
