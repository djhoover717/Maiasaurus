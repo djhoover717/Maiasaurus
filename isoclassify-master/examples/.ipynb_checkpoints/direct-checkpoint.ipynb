{
 "cells": [
  {
   "cell_type": "markdown",
   "metadata": {
    "collapsed": true
   },
   "source": [
    "# Direct method example\n",
    "\n",
    "An example use of isoclassify's direct method. Prefered use is through the command-line interface (see README)."
   ]
  },
  {
   "cell_type": "code",
   "execution_count": 7,
   "metadata": {},
   "outputs": [],
   "source": [
    "%matplotlib inline\n",
    "%reload_ext autoreload\n",
    "%autoreload 2\n",
    "\n",
    "import os \n",
    "import h5py\n",
    "import numpy as np\n",
    "import astropy.units as units\n",
    "import sys\n",
    "sys.path.insert(0, \"C:/Users/djhoo/Documents/Oviraptor-master/isoclassify-master/\")\n",
    "\n",
    "from isoclassify import DATADIR\n",
    "from isoclassify.direct import classify as classify_direct\n",
    "from isoclassify.extinction import query_dustmodel_coords"
   ]
  },
  {
   "cell_type": "markdown",
   "metadata": {},
   "source": [
    "## Bolometric corrections model\n",
    "\n",
    "Load the BC model."
   ]
  },
  {
   "cell_type": "code",
   "execution_count": 8,
   "metadata": {},
   "outputs": [],
   "source": [
    "fn = os.path.join(\"C:/Users/djhoo/Documents/Oviraptor-master/isoclassify-master/isoclassify/grid\",'bcgrid.h5')\n",
    "bcmodel = h5py.File(fn,'r', driver='core', backing_store=False)"
   ]
  },
  {
   "cell_type": "markdown",
   "metadata": {},
   "source": [
    "## Reddening maps\n",
    "\n",
    "We first initialise the observational data and give it some arbitrary coordinates."
   ]
  },
  {
   "cell_type": "code",
   "execution_count": 9,
   "metadata": {},
   "outputs": [],
   "source": [
    "x = classify_direct.obsdata()\n",
    "x.addcoords(292.0826387546914, 37.05987401545169)"
   ]
  },
  {
   "cell_type": "markdown",
   "metadata": {},
   "source": [
    "We then specify the reddening (dust) map to use. Here, we choose [Green et al. (2019)](https://ui.adsabs.harvard.edu/abs/2019ApJ...887...93G/abstract), a.k.a. Bayestar19 (see [here](http://argonaut.skymaps.info/usage#intro) for more information).\n",
    "\n",
    "If we don't want to use a reddening map, isoclassify fits for Av. In this case specify `dustmap = 'none'`. Alternatively, if you want to assume no reddening, use `dustmap = 'zero'`. In both cases, the [Cardelli et al. (1989)](https://ui.adsabs.harvard.edu/abs/1989ApJ...345..245C/abstract) reddening law is assumed."
   ]
  },
  {
   "cell_type": "code",
   "execution_count": 11,
   "metadata": {},
   "outputs": [
    {
     "name": "stderr",
     "output_type": "stream",
     "text": [
      "[autoreload of isoclassify.extinction failed: Traceback (most recent call last):\n",
      "  File \"C:\\Users\\djhoo\\Miniconda3\\lib\\site-packages\\IPython\\extensions\\autoreload.py\", line 245, in check\n",
      "    superreload(m, reload, self.old_objects)\n",
      "  File \"C:\\Users\\djhoo\\Miniconda3\\lib\\site-packages\\IPython\\extensions\\autoreload.py\", line 394, in superreload\n",
      "    module = reload(module)\n",
      "  File \"C:\\Users\\djhoo\\Miniconda3\\lib\\imp.py\", line 314, in reload\n",
      "    return importlib.reload(module)\n",
      "  File \"C:\\Users\\djhoo\\Miniconda3\\lib\\importlib\\__init__.py\", line 169, in reload\n",
      "    _bootstrap._exec(spec, module)\n",
      "  File \"<frozen importlib._bootstrap>\", line 604, in _exec\n",
      "  File \"<frozen importlib._bootstrap_external>\", line 783, in exec_module\n",
      "  File \"<frozen importlib._bootstrap>\", line 219, in _call_with_frames_removed\n",
      "  File \"C:/Users/djhoo/Documents/Oviraptor-master/isoclassify-master\\isoclassify\\extinction.py\", line 8, in <module>\n",
      "    import mwdust\n",
      "  File \"C:/Users/djhoo/Documents/Oviraptor-master/mwdust-master\\mwdust\\__init__.py\", line 1, in <module>\n",
      "    from mwdust.SFD import SFD\n",
      "  File \"C:/Users/djhoo/Documents/Oviraptor-master/mwdust-master\\mwdust\\SFD.py\", line 7, in <module>\n",
      "    from mwdust.util.read_SFD import read_SFD_EBV\n",
      "OSError: SFD/C module not found\n",
      "]\n",
      "[autoreload of isoclassify.extinction failed: Traceback (most recent call last):\n",
      "  File \"C:\\Users\\djhoo\\Miniconda3\\lib\\site-packages\\IPython\\extensions\\autoreload.py\", line 245, in check\n",
      "    superreload(m, reload, self.old_objects)\n",
      "  File \"C:\\Users\\djhoo\\Miniconda3\\lib\\site-packages\\IPython\\extensions\\autoreload.py\", line 394, in superreload\n",
      "    module = reload(module)\n",
      "  File \"C:\\Users\\djhoo\\Miniconda3\\lib\\imp.py\", line 314, in reload\n",
      "    return importlib.reload(module)\n",
      "  File \"C:\\Users\\djhoo\\Miniconda3\\lib\\importlib\\__init__.py\", line 169, in reload\n",
      "    _bootstrap._exec(spec, module)\n",
      "  File \"<frozen importlib._bootstrap>\", line 604, in _exec\n",
      "  File \"<frozen importlib._bootstrap_external>\", line 783, in exec_module\n",
      "  File \"<frozen importlib._bootstrap>\", line 219, in _call_with_frames_removed\n",
      "  File \"C:/Users/djhoo/Documents/Oviraptor-master/isoclassify-master\\isoclassify\\extinction.py\", line 8, in <module>\n",
      "    import mwdust\n",
      "  File \"C:/Users/djhoo/Documents/Oviraptor-master/mwdust-master\\mwdust\\__init__.py\", line 1, in <module>\n",
      "    from mwdust.SFD import SFD\n",
      "  File \"C:/Users/djhoo/Documents/Oviraptor-master/mwdust-master\\mwdust\\SFD.py\", line 7, in <module>\n",
      "    from mwdust.util.read_SFD import read_SFD_EBV\n",
      "OSError: SFD/C module not found\n",
      "]\n",
      "[autoreload of isoclassify.extinction failed: Traceback (most recent call last):\n",
      "  File \"C:\\Users\\djhoo\\Miniconda3\\lib\\site-packages\\IPython\\extensions\\autoreload.py\", line 245, in check\n",
      "    superreload(m, reload, self.old_objects)\n",
      "  File \"C:\\Users\\djhoo\\Miniconda3\\lib\\site-packages\\IPython\\extensions\\autoreload.py\", line 394, in superreload\n",
      "    module = reload(module)\n",
      "  File \"C:\\Users\\djhoo\\Miniconda3\\lib\\imp.py\", line 314, in reload\n",
      "    return importlib.reload(module)\n",
      "  File \"C:\\Users\\djhoo\\Miniconda3\\lib\\importlib\\__init__.py\", line 169, in reload\n",
      "    _bootstrap._exec(spec, module)\n",
      "  File \"<frozen importlib._bootstrap>\", line 604, in _exec\n",
      "  File \"<frozen importlib._bootstrap_external>\", line 783, in exec_module\n",
      "  File \"<frozen importlib._bootstrap>\", line 219, in _call_with_frames_removed\n",
      "  File \"C:/Users/djhoo/Documents/Oviraptor-master/isoclassify-master\\isoclassify\\extinction.py\", line 8, in <module>\n",
      "    import mwdust\n",
      "  File \"C:/Users/djhoo/Documents/Oviraptor-master/mwdust-master\\mwdust\\__init__.py\", line 1, in <module>\n",
      "    from mwdust.SFD import SFD\n",
      "  File \"C:/Users/djhoo/Documents/Oviraptor-master/mwdust-master\\mwdust\\SFD.py\", line 7, in <module>\n",
      "    from mwdust.util.read_SFD import read_SFD_EBV\n",
      "OSError: SFD/C module not found\n",
      "]\n",
      "[autoreload of isoclassify.extinction failed: Traceback (most recent call last):\n",
      "  File \"C:\\Users\\djhoo\\Miniconda3\\lib\\site-packages\\IPython\\extensions\\autoreload.py\", line 245, in check\n",
      "    superreload(m, reload, self.old_objects)\n",
      "  File \"C:\\Users\\djhoo\\Miniconda3\\lib\\site-packages\\IPython\\extensions\\autoreload.py\", line 394, in superreload\n",
      "    module = reload(module)\n",
      "  File \"C:\\Users\\djhoo\\Miniconda3\\lib\\imp.py\", line 314, in reload\n",
      "    return importlib.reload(module)\n",
      "  File \"C:\\Users\\djhoo\\Miniconda3\\lib\\importlib\\__init__.py\", line 169, in reload\n",
      "    _bootstrap._exec(spec, module)\n",
      "  File \"<frozen importlib._bootstrap>\", line 604, in _exec\n",
      "  File \"<frozen importlib._bootstrap_external>\", line 783, in exec_module\n",
      "  File \"<frozen importlib._bootstrap>\", line 219, in _call_with_frames_removed\n",
      "  File \"C:/Users/djhoo/Documents/Oviraptor-master/isoclassify-master\\isoclassify\\extinction.py\", line 8, in <module>\n",
      "    import mwdust\n",
      "  File \"C:/Users/djhoo/Documents/Oviraptor-master/mwdust-master\\mwdust\\__init__.py\", line 1, in <module>\n",
      "    from mwdust.SFD import SFD\n",
      "  File \"C:/Users/djhoo/Documents/Oviraptor-master/mwdust-master\\mwdust\\SFD.py\", line 7, in <module>\n",
      "    from mwdust.util.read_SFD import read_SFD_EBV\n",
      "OSError: SFD/C module not found\n",
      "]\n"
     ]
    },
    {
     "ename": "AttributeError",
     "evalue": "module 'mwdust_master' has no attribute 'Green19'",
     "output_type": "error",
     "traceback": [
      "\u001b[1;31m---------------------------------------------------------------------------\u001b[0m",
      "\u001b[1;31mAttributeError\u001b[0m                            Traceback (most recent call last)",
      "\u001b[1;32m<ipython-input-11-126a13816cfd>\u001b[0m in \u001b[0;36m<module>\u001b[1;34m\u001b[0m\n\u001b[0;32m      1\u001b[0m \u001b[0mdustmap\u001b[0m \u001b[1;33m=\u001b[0m \u001b[1;34m'green19'\u001b[0m\u001b[1;33m\u001b[0m\u001b[1;33m\u001b[0m\u001b[0m\n\u001b[1;32m----> 2\u001b[1;33m \u001b[0mdustmodel\u001b[0m\u001b[1;33m,\u001b[0m \u001b[0mext\u001b[0m \u001b[1;33m=\u001b[0m \u001b[0mquery_dustmodel_coords\u001b[0m\u001b[1;33m(\u001b[0m\u001b[0mx\u001b[0m\u001b[1;33m.\u001b[0m\u001b[0mra\u001b[0m\u001b[1;33m,\u001b[0m \u001b[0mx\u001b[0m\u001b[1;33m.\u001b[0m\u001b[0mdec\u001b[0m\u001b[1;33m,\u001b[0m \u001b[0mdustmap\u001b[0m\u001b[1;33m)\u001b[0m\u001b[1;33m\u001b[0m\u001b[1;33m\u001b[0m\u001b[0m\n\u001b[0m",
      "\u001b[1;32mC:/Users/djhoo/Documents/Oviraptor-master/isoclassify-master\\isoclassify\\extinction.py\u001b[0m in \u001b[0;36mquery_dustmodel_coords\u001b[1;34m(ra, dec, dust)\u001b[0m\n\u001b[0;32m     16\u001b[0m         \u001b[0mext\u001b[0m \u001b[1;33m=\u001b[0m \u001b[0mextinction\u001b[0m\u001b[1;33m(\u001b[0m\u001b[1;34m'green19'\u001b[0m\u001b[1;33m)\u001b[0m\u001b[1;33m\u001b[0m\u001b[1;33m\u001b[0m\u001b[0m\n\u001b[0;32m     17\u001b[0m     \u001b[1;32mif\u001b[0m \u001b[0mdust\u001b[0m \u001b[1;33m==\u001b[0m \u001b[1;34m'green19'\u001b[0m\u001b[1;33m:\u001b[0m\u001b[1;33m\u001b[0m\u001b[1;33m\u001b[0m\u001b[0m\n\u001b[1;32m---> 18\u001b[1;33m         \u001b[0mreddenMap\u001b[0m \u001b[1;33m=\u001b[0m \u001b[0mmwdust\u001b[0m\u001b[1;33m.\u001b[0m\u001b[0mGreen19\u001b[0m\u001b[1;33m(\u001b[0m\u001b[1;33m)\u001b[0m\u001b[1;33m\u001b[0m\u001b[1;33m\u001b[0m\u001b[0m\n\u001b[0m\u001b[0;32m     19\u001b[0m         \u001b[0mext\u001b[0m \u001b[1;33m=\u001b[0m \u001b[0mextinction\u001b[0m\u001b[1;33m(\u001b[0m\u001b[1;34m'green19'\u001b[0m\u001b[1;33m)\u001b[0m\u001b[1;33m\u001b[0m\u001b[1;33m\u001b[0m\u001b[0m\n\u001b[0;32m     20\u001b[0m     \u001b[1;32mif\u001b[0m \u001b[0mdust\u001b[0m \u001b[1;33m==\u001b[0m \u001b[1;34m'zero'\u001b[0m\u001b[1;33m:\u001b[0m\u001b[1;33m\u001b[0m\u001b[1;33m\u001b[0m\u001b[0m\n",
      "\u001b[1;31mAttributeError\u001b[0m: module 'mwdust_master' has no attribute 'Green19'"
     ]
    }
   ],
   "source": [
    "dustmap = 'green19'\n",
    "dustmodel, ext = query_dustmodel_coords(x.ra, x.dec, dustmap)"
   ]
  },
  {
   "cell_type": "markdown",
   "metadata": {},
   "source": [
    "## Observational data\n",
    "\n",
    "We add some observational data for the star."
   ]
  },
  {
   "cell_type": "code",
   "execution_count": 12,
   "metadata": {},
   "outputs": [],
   "source": [
    "# SPECTROSCOPY \n",
    "# [Teff, logg, FeH] and [sigma_Teff, sigma_logg, sigma_FeH] \n",
    "x.addspec([5777.,4.44,0.0],[60.,0.07,0.04])\n",
    "\n",
    "# PARALLAX\n",
    "x.addplx(0.07,0.007)\n",
    "\n",
    "# 2MASS PHOTOMETRY\n",
    "x.addjhk([4.38,4.04,4.00],[0.03,0.03,0.03])\n",
    "\n",
    "# MAGNITUDE\n",
    "# To use for the distance modulus\n",
    "x.addmag([4.38],[0.03])"
   ]
  },
  {
   "cell_type": "markdown",
   "metadata": {},
   "source": [
    "## Fit\n",
    "\n",
    "We perform the fit using isoclassify's direct method and the inputs described above."
   ]
  },
  {
   "cell_type": "code",
   "execution_count": 13,
   "metadata": {},
   "outputs": [
    {
     "ename": "NameError",
     "evalue": "name 'dustmodel' is not defined",
     "output_type": "error",
     "traceback": [
      "\u001b[1;31m---------------------------------------------------------------------------\u001b[0m",
      "\u001b[1;31mNameError\u001b[0m                                 Traceback (most recent call last)",
      "\u001b[1;32m<ipython-input-13-d6919133fb4f>\u001b[0m in \u001b[0;36m<module>\u001b[1;34m\u001b[0m\n\u001b[1;32m----> 1\u001b[1;33m \u001b[0mparas\u001b[0m \u001b[1;33m=\u001b[0m \u001b[0mclassify_direct\u001b[0m\u001b[1;33m.\u001b[0m\u001b[0mstparas\u001b[0m\u001b[1;33m(\u001b[0m\u001b[0mx\u001b[0m\u001b[1;33m,\u001b[0m \u001b[0mbcmodel\u001b[0m\u001b[1;33m=\u001b[0m\u001b[0mbcmodel\u001b[0m\u001b[1;33m,\u001b[0m \u001b[0mdustmodel\u001b[0m\u001b[1;33m=\u001b[0m\u001b[0mdustmodel\u001b[0m\u001b[1;33m,\u001b[0m \u001b[0mband\u001b[0m\u001b[1;33m=\u001b[0m\u001b[1;34m'jmag'\u001b[0m\u001b[1;33m,\u001b[0m \u001b[0mext\u001b[0m\u001b[1;33m=\u001b[0m\u001b[0mext\u001b[0m\u001b[1;33m,\u001b[0m \u001b[0mplot\u001b[0m\u001b[1;33m=\u001b[0m\u001b[1;36m1\u001b[0m\u001b[1;33m)\u001b[0m\u001b[1;33m\u001b[0m\u001b[1;33m\u001b[0m\u001b[0m\n\u001b[0m",
      "\u001b[1;31mNameError\u001b[0m: name 'dustmodel' is not defined"
     ]
    }
   ],
   "source": [
    "paras = classify_direct.stparas(x, bcmodel=bcmodel, dustmodel=dustmodel, band='jmag', ext=ext, plot=1)"
   ]
  },
  {
   "cell_type": "markdown",
   "metadata": {},
   "source": [
    "NB: currently, spread on the Av posterior is only due to its variation within the distance uncertainty. It appears Bayestar19 varies very little with distance, hence the extremely narrow posterior. An assumed uncertainty of 0.02 is made in the code for the propagation of uncertainty."
   ]
  },
  {
   "cell_type": "code",
   "execution_count": null,
   "metadata": {},
   "outputs": [],
   "source": []
  }
 ],
 "metadata": {
  "kernelspec": {
   "display_name": "Python 3",
   "language": "python",
   "name": "python3"
  },
  "language_info": {
   "codemirror_mode": {
    "name": "ipython",
    "version": 3
   },
   "file_extension": ".py",
   "mimetype": "text/x-python",
   "name": "python",
   "nbconvert_exporter": "python",
   "pygments_lexer": "ipython3",
   "version": "3.8.5"
  }
 },
 "nbformat": 4,
 "nbformat_minor": 1
}
