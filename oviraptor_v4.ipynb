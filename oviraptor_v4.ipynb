{
 "cells": [
  {
   "cell_type": "markdown",
   "metadata": {},
   "source": [
    "#### Code loads data from oviraptor catalogue. The goal is to generate a bootstrap sample of transit stellar hosts that has the same distribution of masses as the RV systems. A p-chip spline is fitted to the RV distribution in order to create a probability distribution (cdf). We draw weighted samples from the transit population with weights defined by the splinecdf. For each transiting planet, we draw probabilistic values using Chen and Kipping's mass forecaster. The masses, radii, and corresponding uncertainties are used as starting points for the process. After calculating system-level parameters (Q, mu, S, C, etc.), we perform KS and AD tests on each statistic and record their p-values. Finally, for each statistic, we determine the proportion of trials the null hypothesis is rejected and the proportion that the null hypothesis is accepted."
   ]
  },
  {
   "cell_type": "code",
   "execution_count": 58,
   "metadata": {},
   "outputs": [],
   "source": [
    "import numpy as np\n",
    "import csv\n",
    "import matplotlib.pyplot as plt\n",
    "import matplotlib.gridspec as gridspec\n",
    "import matplotlib as mpl\n",
    "mpl.rcParams['agg.path.chunksize'] = 10000\n",
    "\n",
    "import LMC\n",
    "import archinfo\n",
    "\n",
    "import astropy.stats\n",
    "from astropy import constants as apc\n",
    "\n",
    "import scipy\n",
    "import scipy.signal as sig\n",
    "import scipy.optimize as op\n",
    "from scipy import stats\n",
    "from scipy.optimize import curve_fit\n",
    "\n",
    "import dcor\n",
    "import random\n",
    "import collections\n",
    "import importlib as imp\n",
    "from KDEpy import FFTKDE\n",
    "\n",
    "import sys\n",
    "sys.path.insert(0, \"./forecaster/\")\n",
    "import mr_forecast as mr\n",
    "\n",
    "import time\n",
    "from timeit import default_timer\n",
    "\n",
    "\n",
    "# define a few constants\n",
    "pi = np.pi\n",
    "\n",
    "MJUPITER = apc.M_jup.value\n",
    "MEARTH = apc.M_earth.value\n",
    "MSUN = apc.M_sun.value\n",
    "\n",
    "RJUPITER = apc.R_jup.value\n",
    "REARTH = apc.R_earth.value\n",
    "RSUN = apc.R_sun.value\n",
    "\n",
    "AU = apc.au.value\n",
    "BIGG = apc.G.value"
   ]
  },
  {
   "cell_type": "code",
   "execution_count": 59,
   "metadata": {},
   "outputs": [],
   "source": [
    "# set manual controls and paths\n",
    "NBOOT = 100\n",
    "\n",
    "my_file = 'C:/Users/djhoo/Documents/Oviraptor-master/catalogues/oviraptor_master.csv'\n",
    "#my_file = \"/Users/research/projects/oviraptor/catalogues/oviraptor_master.csv\""
   ]
  },
  {
   "cell_type": "code",
   "execution_count": 60,
   "metadata": {},
   "outputs": [],
   "source": [
    "class System:\n",
    "    def __init__(self, sysid=None):\n",
    "        \n",
    "        self.sysid = sysid"
   ]
  },
  {
   "cell_type": "code",
   "execution_count": 61,
   "metadata": {},
   "outputs": [],
   "source": [
    "raw_data = []\n",
    "with open(my_file) as infile:\n",
    "    reader = csv.reader(infile)\n",
    "    \n",
    "    for row in reader:\n",
    "        raw_data.append(row)\n",
    "        \n",
    "KEYS = raw_data[0]\n",
    "VALUES = raw_data[1:]\n",
    "\n",
    "def get_key(keyname, keys = KEYS, values = VALUES):\n",
    "    '''\n",
    "    keyname must be a string\n",
    "    '''\n",
    "    i = keys.index(keyname)\n",
    "    arr = []\n",
    "    for row in values:\n",
    "        arr.append(row[i])\n",
    "    return np.array(arr)"
   ]
  },
  {
   "cell_type": "code",
   "execution_count": 62,
   "metadata": {},
   "outputs": [],
   "source": [
    "# now make the data dictionary\n",
    "d = {}\n",
    "d['starname'] = get_key('starname')\n",
    "d['rp'] = get_key('rp')\n",
    "d['rp_err1'] = get_key('rp_err1')\n",
    "d['rp_err2'] = get_key('rp_err2')\n",
    "d['mp'] = get_key('mp')\n",
    "d['mp_err1'] = get_key('mp_err1')\n",
    "d['mp_err2'] = get_key('mp_err2')\n",
    "d['ror'] = get_key('ror')\n",
    "d['ror_err1'] = get_key('ror_err1')\n",
    "d['ror_err2'] = get_key('ror_err2')\n",
    "\n",
    "d['ms'] = get_key('ms')\n",
    "d['ms_err1'] = get_key('ms_err1')\n",
    "d['ms_err2'] = get_key('ms_err2')\n",
    "d['rs'] = get_key('rs')\n",
    "d['rs_err1'] = get_key('rs_err1')\n",
    "d['rs_err2'] = get_key('rs_err2')\n",
    "d['p'] = get_key('p')\n",
    "\n",
    "# disc_method can vary within a system (i.e. discovery method for each planet)\n",
    "d['disc_method'] = get_key('disc_method')\n",
    "\n",
    "#'sys_disc_method' should be the same for all planets in a given system\n",
    "d['sys_disc_method'] = get_key('system_disc_method')"
   ]
  },
  {
   "cell_type": "code",
   "execution_count": 63,
   "metadata": {},
   "outputs": [],
   "source": [
    "# convert numerical quantities to floats; set missing values to np.nan\n",
    "for k in d.keys():\n",
    "    if (k[-11:] != \"disc_method\")*(k != \"starname\"):\n",
    "        \n",
    "        arr = np.zeros(len(d[\"starname\"]))\n",
    "\n",
    "        for i, entry in enumerate(d[k]):\n",
    "            if entry == \"\":\n",
    "                arr[i] = np.nan\n",
    "            else:\n",
    "                arr[i] = float(entry)\n",
    "                \n",
    "        d[k] = np.copy(arr)"
   ]
  },
  {
   "cell_type": "code",
   "execution_count": 64,
   "metadata": {},
   "outputs": [],
   "source": [
    "# calculate planet radii\n",
    "#d['rp'] = d['ror']*d['rs'] * (RSUN/REARTH)\n",
    "\n",
    "#d['rp_err1'] = d['rp'] * np.sqrt((d['ror_err1']/d['ror'])**2 + (d['rs_err1']/d['rs'])**2)\n",
    "#d['rp_err2'] = d['rp'] * np.sqrt((d['ror_err2']/d['ror'])**2 + (d['rs_err2']/d['rs'])**2)"
   ]
  },
  {
   "cell_type": "code",
   "execution_count": 8,
   "metadata": {},
   "outputs": [
    {
     "name": "stdout",
     "output_type": "stream",
     "text": [
      "After removing systems with N < 3, 842 objects in 239 systems remain\n"
     ]
    }
   ],
   "source": [
    "# count up the planets in each system\n",
    "d[\"npl\"] = np.zeros(len(d[\"starname\"]), dtype=\"int\")\n",
    "\n",
    "for i, s in enumerate(d[\"starname\"]):\n",
    "    d[\"npl\"][i] = int(np.sum(d[\"starname\"] == s))\n",
    "    \n",
    "\n",
    "# remove systems with fewer than 3 planets\n",
    "keep = d[\"npl\"] >= 3\n",
    "\n",
    "for k in d.keys():\n",
    "    d[k] = d[k][keep]\n",
    "    \n",
    "print(\"After removing systems with N < 3, {0} objects in {1} systems remain\"\n",
    "      .format(np.sum(keep), len(np.unique(d[\"starname\"]))))"
   ]
  },
  {
   "cell_type": "code"
   "execution_count": 65,
   "metadata": {},
   "outputs": [
    {
     "name": "stdout",
     "output_type": "stream",
     "text": [
      "Removed planets with neither mass nor radius from the following systems\n",
      "HIP 41378\n",
      "K2-3\n",
      "Kepler-160\n",
      "Kepler-23\n",
      "Kepler-24\n",
      "Kepler-305\n",
      "Kepler-37\n",
      "Kepler-385\n",
      "Kepler-431\n",
      "Kepler-49\n",
      "Kepler-52\n",
      "Kepler-53\n",
      "Kepler-54\n",
      "Kepler-55\n",
      "Kepler-58\n",
      "\n",
      "After removals, 736 objects in 216 systems remain\n"
     ]
    }
   ],
   "source": [
    "# removes planets missing both a mass and radius (must have at least one)\n",
    "bad = np.isnan(d[\"mp\"]) * np.isnan(d[\"rp\"])\n",
    "\n",
    "print(\"Removed planets with neither mass nor radius from the following systems\")\n",
    "for star in np.unique(d[\"starname\"][bad]):\n",
    "    print(star)\n",
    "    \n",
    "    \n",
    "for k in d.keys():\n",
    "    d[k] = d[k][~bad]\n",
    "    \n",
    "print(\"\\nAfter removals, {0} objects in {1} systems remain\"\n",
    "      .format(np.sum(~bad), len(np.unique(d[\"starname\"]))))"
   ]
  },
  {
   "cell_type": "code",
   "execution_count": 17,
   "metadata": {},
   "outputs": [
    {
     "data": {
      "image/png": "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\n",
      "text/plain": [
       "<Figure size 1296x360 with 2 Axes>"
      ]
     },
     "metadata": {
      "needs_background": "light"
     },
     "output_type": "display_data"
    },
    {
     "name": "stdout",
     "output_type": "stream",
     "text": [
     ]
    }
   ],
   "source": [
    "# check for planets with large relative mass or radius uncertainties\n",
    "mass_mu = np.copy(d[\"mp\"])\n",
    "mass_std = np.sqrt(d[\"mp_err1\"]**2 + d[\"mp_err2\"]**2)/np.sqrt(2)\n",
    "\n",
    "radius_mu = np.copy(d[\"rp\"])\n",
    "radius_std = np.sqrt(d[\"rp_err1\"]**2 + d[\"rp_err2\"]**2)/np.sqrt(2)\n",
    "\n",
    "\n",
    "# here's a histogram\n",
    "fig, ax = plt.subplots(1,2, figsize=(18,5))\n",
    "ax[0].hist(radius_std/radius_mu, bins=np.linspace(0,0.6,39), color=\"cornflowerblue\")\n",
    "ax[0].axvline(0.39, color=\"navy\", lw=3)\n",
    "ax[0].set_xlabel(r\"$\\sigma_r/r_p$\", fontsize=20)\n",
    "ax[1].hist(mass_std/mass_mu, bins=np.linspace(0,1.1,42), color=\"orange\")\n",
    "ax[1].axvline(1.0, color=\"red\", lw=3)\n",
    "ax[1].set_xlabel(r\"$\\sigma_m/m_p$\", fontsize=20)\n",
    "plt.show()\n",
    "\n",
    "\n",
    "# remove the planets with large uncertainties\n",
    "bad = (radius_std/radius_mu > 0.39) + (mass_std/mass_mu > 1.0)\n",
    "\n",
    "print(\"Removed planets with large uncertainties from the following systems\")\n",
    "for star in np.unique(d[\"starname\"][bad]):\n",
    "    print(star)\n",
    "    \n",
    "for k in d.keys():\n",
    "    d[k] = d[k][~bad]\n",
    "    \n",
    "print(\"\\nAfter removals, {0} objects in {1} systems remain\"\n",
    "      .format(np.sum(~bad), len(np.unique(d[\"starname\"]))))"
   ]
  },
  {
   "cell_type": "markdown",
   "metadata": {},
   "source": [
    "# Enforce detection consistency between transit and RV samples "
   ]
  },
  {
   "cell_type": "code",
   "execution_count": 18,
   "metadata": {},
   "outputs": [
    {
     "name": "stderr",
     "output_type": "stream",
     "text": [
      "  mass = truncnorm.rvs( (mlower-mean)/std, (mupper-mean)/std, loc=mean, scale=std, size=sample_size)\n"
     ]
    },
    {
     "data": {
      "text/plain": [
       "<Figure size 432x288 with 1 Axes>"
      ]
     },
     "metadata": {
      "needs_background": "light"
     },
     "output_type": "display_data"
    }
   ],
   "source": [
    "# determine the nominal minimum radius of any planet discovered by RVs\n",
    "# use Chen & Kipping (2017) to convert mass to radius\n",
    "\n",
    "rv_mass = d[\"mp\"][d[\"sys_disc_method\"] == \"Radial Velocity\"]\n",
    "rv_mass_err1 = d[\"mp_err1\"][d[\"sys_disc_method\"] == \"Radial Velocity\"]\n",
    "rv_mass_err2 = d[\"mp_err2\"][d[\"sys_disc_method\"] == \"Radial Velocity\"]\n",
    "rv_mass_err  = np.sqrt(rv_mass_err1**2 + rv_mass_err2**2)/np.sqrt(2)\n",
    "\n",
    "bad = (rv_mass_err > 0.5*rv_mass) + np.isnan(rv_mass) + np.isnan(rv_mass_err)\n",
    "\n",
    "rv_mass = rv_mass[~bad]\n",
    "rv_mass_err = rv_mass_err[~bad]\n",
    "\n",
    "rv_nominal_radius = np.zeros_like(rv_mass)\n",
    "rv_stellar_radius = d[\"rs\"][d[\"sys_disc_method\"] == \"Radial Velocity\"][~bad]\n",
    "\n",
    "for i, rvm in enumerate(rv_mass):\n",
    "    rv_nominal_radius[i] = mr.Mstat2R(rvm, rv_mass_err[i], sample_size=1000)[0]\n",
    "\n",
    "min_rv_radius = np.min(rv_nominal_radius[~np.isnan(rv_nominal_radius)])\n",
    "    \n",
    "nominal_rprs = (rv_nominal_radius*REARTH)/(rv_stellar_radius*RSUN)\n",
    "min_rv_rprs = np.min(nominal_rprs[~np.isnan(nominal_rprs)])\n",
    "\n",
    "plt.figure()\n",
    "plt.plot(np.log10(rv_mass), np.log10(rv_nominal_radius), \"k.\")\n",
    "plt.xlabel(\"log10(mass)\", fontsize=20)\n",
    "plt.ylabel(\"log10(radius)\", fontsize=20)\n",
    "plt.show()"
   ]
  },
  {
   "cell_type": "code",
   "execution_count": 19,
   "metadata": {},
   "outputs": [
    {
     "name": "stdout",
     "output_type": "stream",
     "text": [
      "After removing long period and small radius objects, 509 planets in 143 systems remain\n"
     ]
    },
    {
     "name": "stderr",
     "output_type": "stream",
     "text": [
      "C:\\Users\\djhoo\\Miniconda3\\lib\\site-packages\\ipykernel_launcher.py:7: RuntimeWarning: invalid value encountered in greater_equal\n",
      "  import sys\n"
     ]
    }
   ],
   "source": [
    "# remove very small transiting planets (that wouldn't be discovered by RV)\n",
    "# remove very long period RV planets (that wouldn't be discovered by Kepler)\n",
    "# don't throw out the NaN values, which indicate missing data (e.g no radius for some RV planets)\n",
    "\n",
    "d['rprs'] = (d['rp']*REARTH)/(d['rs']*RSUN)\n",
    "\n",
    "keep = ((d[\"rprs\"] >= min_rv_rprs) + np.isnan(d[\"rprs\"])) * (d[\"p\"] < 1460.)\n",
    "\n",
    "for k in d.keys():\n",
    "    d[k] = d[k][keep]\n",
    "\n",
    "    \n",
    "# recount the planets in each system and eliminate systems reduced to fewer than 3 planets\n",
    "for i, s in enumerate(d[\"starname\"]):\n",
    "    d[\"npl\"][i] = int(np.sum(d[\"starname\"] == s))\n",
    "    \n",
    "keep = d[\"npl\"] >= 3\n",
    "\n",
    "for k in d.keys():\n",
    "    d[k] = d[k][keep]\n",
    "    \n",
    "\n",
    "print(\"After removing long period and small radius objects, {0} planets in {1} systems remain\"\n",
    "      .format(len(d[\"starname\"]), len(np.unique(d[\"starname\"]))))"
   ]
  },
  {
   "cell_type": "code",
   "execution_count": 20,
   "metadata": {},
   "outputs": [
    {
     "name": "stdout",
     "output_type": "stream",
     "text": [
      "After removing systems with N < 3, 509 objects in 143 systems remain\n"
     ]
    }
   ],
   "source": [
    "# recount the planets in each system\n",
    "d[\"npl\"] = np.zeros(len(d[\"starname\"]), dtype=\"int\")\n",
    "\n",
    "for i, s in enumerate(d[\"starname\"]):\n",
    "    d[\"npl\"][i] = int(np.sum(d[\"starname\"] == s))\n",
    "    \n",
    "\n",
    "# remove systems with fewer than 3 planets\n",
    "keep = d[\"npl\"] >= 3\n",
    "\n",
    "for k in d.keys():\n",
    "    d[k] = d[k][keep]\n",
    "    \n",
    "print(\"After removing systems with N < 3, {0} objects in {1} systems remain\"\n",
    "      .format(np.sum(keep), len(np.unique(d[\"starname\"]))))"
   ]
  },
  {
   "cell_type": "markdown",
   "metadata": {},
   "source": [
    "# Forecast masses/radii for all of the planets"
   ]
  },
  {
   "cell_type": "code",
   "execution_count": 14,
   "metadata": {},
   "outputs": [
    {
     "name": "stderr",
     "output_type": "stream",
     "text": [
      "C:\\Users\\djhoo\\Miniconda3\\lib\\site-packages\\numpy\\lib\\histograms.py:391: RuntimeWarning: invalid value encountered in greater_equal\n",
      "  keep = (a >= first_edge)\n",
      "C:\\Users\\djhoo\\Miniconda3\\lib\\site-packages\\numpy\\lib\\histograms.py:392: RuntimeWarning: invalid value encountered in less_equal\n",
      "  keep &= (a <= last_edge)\n",
      "C:\\Users\\djhoo\\Miniconda3\\lib\\site-packages\\numpy\\lib\\histograms.py:824: RuntimeWarning: invalid value encountered in greater_equal\n",
      "  keep = (tmp_a >= first_edge)\n",
      "C:\\Users\\djhoo\\Miniconda3\\lib\\site-packages\\numpy\\lib\\histograms.py:825: RuntimeWarning: invalid value encountered in less_equal\n",
      "  keep &= (tmp_a <= last_edge)\n"
     ]
    },
    {
     "data": {
      "image/png": "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\n",
      "text/plain": [
       "<Figure size 1152x360 with 2 Axes>"
      ]
     },
     "metadata": {
      "needs_background": "light"
     },
     "output_type": "display_data"
    }
   ],
   "source": [
    "mass_mu = np.copy(d[\"mp\"])\n",
    "mass_std = np.sqrt(d[\"merr1\"]**2 + d[\"merr2\"]**2)/np.sqrt(2)\n",
    "\n",
    "radius_mu = np.copy(d[\"rp\"])\n",
    "radius_std = np.sqrt(d[\"rerr1\"]**2 + d[\"rerr2\"]**2)/np.sqrt(2)\n",
    "\n",
    "fig, ax = plt.subplots(1, 2, figsize=(16,5))\n",
    "ax[0].hist(mass_std/mass_mu, bins = 'auto')\n",
    "ax[0].set_xlabel('mass_std/mass_mu', fontsize=12)\n",
    "ax[0].set_ylabel('Frequency', fontsize=12)\n",
    "ax[0].set_ylim(0, 60)\n",
    "ax[0].vlines(2, 0, 60, linestyles='dashed')\n",
    "\n",
    "ax[1].hist(radius_std/radius_mu, bins = 'auto')\n",
    "ax[1].set_xlabel('radius_std/radius_mu', fontsize=12)\n",
    "ax[1].set_ylabel('Frequency', fontsize=12)\n",
    "ax[1].vlines(1, 0, 120, linestyles='dashed')\n",
    "ax[1].set_ylim(0, 120)\n",
    "plt.show()"
   ]
  },
  {
   "cell_type": "code",
   "execution_count": 15,
   "metadata": {},
   "outputs": [
    {
     "name": "stderr",
     "output_type": "stream",
     "text": [
      "C:\\Users\\djhoo\\Miniconda3\\lib\\site-packages\\ipykernel_launcher.py:2: RuntimeWarning: invalid value encountered in greater\n",
      "  \n",
      "C:\\Users\\djhoo\\Miniconda3\\lib\\site-packages\\ipykernel_launcher.py:3: RuntimeWarning: invalid value encountered in greater\n",
      "  This is separate from the ipykernel package so we can avoid doing imports until\n"
     ]
    }
   ],
   "source": [
    "# replace absurdly large relatie errors with NaN\n",
    "mass_std[mass_std/mass_mu > 2] = np.nan\n",
    "radius_std[radius_std/radius_mu > 1] = np.nan\n",
    "\n",
    "# fix values where mean mass exists but error does not\n",
    "bad = ~np.isnan(mass_mu)*np.isnan(mass_std)\n",
    "good = ~np.isnan(mass_mu)*~np.isnan(mass_std)\n",
    "mass_std[bad] = mass_mu[bad]*np.max(mass_std[good]/mass_mu[good])\n",
    "\n",
    "# fix values where mean radius exists but error does not\n",
    "bad = ~np.isnan(radius_mu)*np.isnan(radius_std)\n",
    "good = ~np.isnan(radius_mu)*~np.isnan(radius_std)\n",
    "radius_std[bad] = radius_mu[bad]*np.max(radius_std[good]/radius_mu[good])"
   ]
  },
  {
   "cell_type": "code",
   "execution_count": 16,
   "metadata": {},
   "outputs": [
    {
     "name": "stdout",
     "output_type": "stream",
     "text": [
      "0\n"
     ]
    },
    {
     "name": "stderr",
     "output_type": "stream",
     "text": [
      "/Users/research/anaconda3/lib/python3.7/site-packages/ipykernel_launcher.py:23: RuntimeWarning: divide by zero encountered in double_scalars\n"
     ]
    },
    {
     "name": "stdout",
     "output_type": "stream",
     "text": [
      "100\n",
      "200\n",
      "300\n",
      "400\n",
      "500\n"
     ]
    }
   ],
   "source": [
    "mass_mu = np.copy(d[\"mp\"])\n",
    "mass_std = np.sqrt(d[\"mp_err1\"]**2 + d[\"mp_err2\"]**2)/np.sqrt(2)\n",
    "\n",
    "radius_mu = np.copy(d[\"rp\"])\n",
    "radius_std = np.sqrt(d[\"rp_err1\"]**2 + d[\"rp_err2\"]**2)/np.sqrt(2)\n",
    "\n",
    "NPL = len(mass_mu)\n",
    "\n",
    "mass_prob = np.zeros((NPL, NBOOT))\n",
    "radius_prob = np.zeros_like(mass_prob)\n",
    "\n",
    "for i in range(NPL):\n",
    "    if i % 100 == 0:\n",
    "        print(i)\n",
    "    \n",
    "    # no mass, no radius\n",
    "    if np.isnan(mass_mu[i]) and np.isnan(radius_mu[i]):\n",
    "        raise ValueError(\"All planets must have either a mass or radius (or both)\")\n",
    "    \n",
    "    \n",
    "    # mass measurement exists\n",
    "    if ~np.isnan(mass_mu[i]):\n",
    "        mass_prob[i] = stats.truncnorm((3e-4-mass_mu[i])/mass_std[i], (3e5-mass_mu[i])/mass_std[i], \n",
    "                                       loc=mass_mu[i], scale=mass_std[i]).rvs(NBOOT)\n",
    "        \n",
    "        if np.isnan(radius_mu[i]):\n",
    "            radius_prob[i] = mr.Mpost2R(mass_prob[i])\n",
    "        \n",
    "    \n",
    "    # radius measurement exists\n",
    "    if ~np.isnan(radius_mu[i]):        \n",
    "        radius_prob[i] = stats.truncnorm((0.1-radius_mu[i])/radius_std[i], (100-radius_mu[i])/radius_std[i], \n",
    "                                       loc=radius_mu[i], scale=radius_std[i]).rvs(NBOOT)\n",
    "        if np.isnan(mass_mu[i]):\n",
    "            mass_prob[i] = mr.Rpost2M(radius_prob[i])"
   ]
  },
  {
   "cell_type": "code",
   "execution_count": 22,
   "metadata": {},
   "outputs": [
    {
     "data": {
      "text/plain": [
       "<Figure size 936x576 with 1 Axes>"
      ]
     },
     "metadata": {
      "needs_background": "light"
     },
     "output_type": "display_data"
    }
   ],
   "source": [
    "RV = d[\"disc_method\"] == \"Radial Velocity\"\n",
    "TTV = ~np.isnan(d[\"mp\"]) * ~RV\n",
    "\n",
    "plt.figure(figsize=(13,8))\n",
    "plt.plot(np.log10(mass_prob), np.log10(radius_prob), \"k.\")\n",
    "plt.plot(np.log10(mass_prob)[RV], np.log10(radius_prob)[RV], \".\", c=\"orange\")\n",
    "plt.plot(np.log10(mass_prob)[TTV], np.log10(radius_prob)[TTV], \".\", c=\"cornflowerblue\")\n",
    "plt.xlabel(\"$\\log_{10}(m_p)$\", fontsize=20)\n",
    "plt.ylabel(\"$\\log_{10}(r_p)$\", fontsize=20)\n",
    "plt.show()"
   ]
  },
  {
   "cell_type": "markdown",
   "metadata": {},
   "source": [
    "# Build list of systems"
   ]
  },
  {
   "cell_type": "code",
   "metadata": {},
   "outputs": [],
   "source": [
    "all_systems = []\n",
    "transit_systems = []\n",
    "rv_systems = []\n",
    "mixed_systems = []\n",
    "\n",
    "for i, star in enumerate(np.unique(d[\"starname\"])):\n",
    "    use = d[\"starname\"] == star\n",
    "    \n",
    "    s = System()\n",
    "    \n",
    "    # stellar/system parameters\n",
    "    s.starname = d[\"starname\"][use][0]\n",
    "    s.Mstar    = d[\"ms\"][use][0]\n",
    "    s.Rstar    = d[\"rs\"][use][0]\n",
    "    s.det_meth = d[\"sys_disc_method\"][use][0]\n",
    "        \n",
    "    \n",
    "    # measured planet properties\n",
    "    s.rprs = d[\"rprs\"][use]\n",
    "    s.radii = d[\"rp\"][use]\n",
    "    s.masses = d['mp'][use]\n",
    "    s.periods = d[\"p\"][use]\n",
    "    s.N = len(s.rprs)\n",
    "    \n",
    "    # arrays of probabilistic mass and radius\n",
    "    s.prob_mass = mass_prob[use].swapaxes(0,1)\n",
    "    s.prob_radius = radius_prob[use].swapaxes(0,1)\n",
    "    \n",
    "    # save to lists\n",
    "    all_systems.append(s)\n",
    "    \n",
    "    if s.det_meth == \"Transit\":\n",
    "        transit_systems.append(s)\n",
    "    elif s.det_meth == \"Radial Velocity\":\n",
    "        rv_systems.append(s)\n",
    "    elif s.det_meth == \"Mixed\":\n",
    "        mixed_systems.append(s)\n",
    "    else:\n",
    "        raise ValueError(\"Detection method must be 'Transit',  'Radial Velocity', or 'Mixed'\")"
   ]
  },
  {
   "cell_type": "markdown",
   "metadata": {},
   "source": [
    "# Assign weights to stellar masses"
   ]
  },
  {
   "cell_type": "code",
   "metadata": {},
   "outputs": [
    {
     "data": {
      "text/plain": [
       "<Figure size 576x360 with 1 Axes>"
      ]
     },
     "metadata": {
      "needs_background": "light"
     },
     "output_type": "display_data"
    }
   ],
   "source": [
    "Mstar = []\n",
    "starname = []\n",
    "det_meth = []\n",
    "\n",
    "for i, s in enumerate(all_systems):\n",
    "    Mstar.append(s.Mstar)\n",
    "    starname.append(s.starname)\n",
    "    det_meth.append(s.det_meth)\n",
    "    \n",
    "    \n",
    "Mstar = np.asarray(Mstar)\n",
    "starname = np.asarray(starname)\n",
    "det_meth = np.asarray(det_meth)\n",
    "\n",
    "ms_rv = Mstar[det_meth == \"Radial Velocity\"]\n",
    "\n",
    "# fraction of stellar masses (any detection method) beyond RV limit\n",
    "# visual inspection reveals only a few transit stars with masses slightly beyond RV limits\n",
    "low  = np.sum(Mstar < ms_rv.min())/len(Mstar)\n",
    "high = np.sum(Mstar < ms_rv.max())/len(Mstar)\n",
    "\n",
    "# generate a monotonic cubic spline (added noise prevents duplicate values)\n",
    "train_x = np.sort(ms_rv + np.random.normal(loc=0, scale=100*sys.float_info.epsilon, size=len(ms_rv)))\n",
    "train_x = np.hstack([Mstar.min(), train_x, Mstar.max()])\n",
    "\n",
    "train_y = np.linspace(low, high, len(ms_rv))\n",
    "train_y = np.hstack([0, train_y, 1])\n",
    "\n",
    "spline = scipy.interpolate.PchipInterpolator(train_x, train_y)\n",
    "#spline = scipy.interpolate.UnivariateSpline(train_x, train_y)\n",
    "\n",
    "fit_x = np.linspace(train_x.min(), train_x.max(), 100)\n",
    "fit_y = spline(fit_x)\n",
    "\n",
    "# smooth the spline interpolation\n",
    "win = sig.hann(49)\n",
    "win /= np.sum(win)\n",
    "\n",
    "fit_y_padded = np.pad(fit_y, (50,50), \"edge\")\n",
    "fit_y_smooth = sig.convolve(fit_y_padded, win, \"same\")[50:-50]\n",
    "\n",
    "# adjust so endpoints are at 0 and 1\n",
    "fit_y_smooth = (fit_y_smooth-min(fit_y_smooth))/(max(fit_y_smooth)-min(fit_y_smooth))\n",
    "\n",
    "# recalculate the spline on the smoothed values\n",
    "spline = scipy.interpolate.PchipInterpolator(fit_x, fit_y_smooth)\n",
    "\n",
    "# now determine weights for transit stars\n",
    "ms_tr = Mstar[det_meth == \"Transit\"]\n",
    "w_tr  = spline(ms_tr)\n",
    "\n",
    "# make a plot\n",
    "plt.figure(figsize=(8,5))\n",
    "plt.plot(train_x, train_y, \"ko\")\n",
    "plt.plot(fit_x, spline(fit_x), c=\"orange\", lw=3)\n",
    "plt.show()"
   ]
  },
  {
   "cell_type": "markdown",
   "metadata": {},
   "source": [
    "# Now we can draw samples and compare cdfs"
   ]
  },
  {
   "cell_type": "code",
   "metadata": {},
   "outputs": [],
   "source": [
    "# dictionaries to hold p-values for Kolmogorov-Smirnov and Anderson-Darling tests\n",
    "KS = {}\n",
    "AD = {}"
   ]
  },
  {
   "cell_type": "code",
   "metadata": {},
   "outputs": [],
   "source": [
    "def perturbed_ks_2samp(x1, x2):\n",
    "    n, m = len(x1), len(x2)\n",
    "    \n",
    "    D, p = stats.ks_2samp(x1, x2)\n",
    "\n",
    "    eps_low  = np.min([D, 0.5/np.sqrt(n*m)])\n",
    "    eps_high = np.min([1-D, 0.5/np.sqrt(n*m)])\n",
    "    \n",
    "    D_new = D + np.random.uniform(-eps_low, eps_high)\n",
    "    p_new = 2*np.exp(-(2*m*D_new**2)/(1+m/n))\n",
    "    \n",
    "    return D_new, p_new\n",
    "\n",
    "\n",
    "def extrapolated_anderson_2samp(x1, x2):\n",
    "    A, cv, p = stats.anderson_ksamp([x1, x2])\n",
    "\n",
    "    alpha = np.array([0.25, 0.10, 0.05, 0.025, 0.01, 0.005, 0.001])\n",
    "    \n",
    "    res_fxn = lambda theta, x, y: y - 1/(1 + theta[0]*np.exp(x/theta[1]))\n",
    "    \n",
    "    fit, success = op.leastsq(res_fxn, [0.25, 1], args=(cv, alpha))\n",
    "    \n",
    "    z = np.linspace(-2,6)\n",
    "    p_new = 1/(1 + fit[0]*np.exp(A/fit[1]))\n",
    "    \n",
    "    return A, p_new"
   ]
  },
  {
   "cell_type": "markdown",
   "metadata": {},
   "source": [
    "## Here's the plotting function"
   ]
  },
  {
   "cell_type": "code",
   "execution_count": 151,
   "metadata": {},
   "outputs": [],
   "source": [
    "def quick_plot(data, ks, ad, datalabel, gridsize=1000, colors=[\"k\", \"r\"], labels=[\"Transit\", \"RV\"]):    \n",
    "    \n",
    "    if colors is None:\n",
    "        colors = []\n",
    "        for k in range(len(data)):\n",
    "            colors.append(\"C{0}\".format(k))\n",
    "    \n",
    "    fig, ax = plt.subplots(1,2, figsize=(16,5))        \n",
    "    \n",
    "    for k, x in enumerate(data):\n",
    "\n",
    "        X = np.linspace(x.min(), x.max(), gridsize)\n",
    "        Y = np.zeros((x.shape[0], gridsize))\n",
    "\n",
    "        for i in range(Y.shape[0]):\n",
    "            for j in range(Y.shape[1]):\n",
    "                Y[i,j] = np.sum(x[i] <= X[j])\n",
    "\n",
    "        Y /= x.shape[1]\n",
    "\n",
    "        Y_mean = Y.mean(0)\n",
    "        Y_up = Y_mean + Y.std(0)\n",
    "        Y_dn = Y_mean - Y.std(0)\n",
    "\n",
    "        Y_up[Y_up > 1.0] = 1.0\n",
    "        Y_dn[Y_dn < 0.0] = 0.0\n",
    "        \n",
    "        \n",
    "        # enforce monotonicity of bounds\n",
    "        for i in range(1,gridsize):\n",
    "            if Y_up[i] < Y_up[i-1]:\n",
    "                Y_up[i] = Y_up[i-1]\n",
    "        \n",
    "        for i in range(1,gridsize):\n",
    "            if Y_dn[gridsize-i-1] > Y_dn[gridsize-i]:\n",
    "                Y_dn[gridsize-i-1] = Y_dn[gridsize-i]\n",
    "\n",
    "        ax[0].plot(X, Y_mean, c=colors[k], label=labels[k])\n",
    "        ax[0].plot(X, Y_up, c=colors[k], ls=\":\")\n",
    "        ax[0].plot(X, Y_dn, c=colors[k], ls=\":\")\n",
    "        ax[0].fill_between(X, Y_up, Y_dn, color=colors[k], alpha=0.1)\n",
    "        ax[0].legend(fontsize=16)\n",
    "        ax[0].set_xlabel(datalabel, fontsize=20)\n",
    "        ax[0].set_ylabel(\"cdf\", fontsize=20)\n",
    "        \n",
    "    ax[1].hist(np.log10(ks), bins=bins, color=\"cornflowerblue\", histtype=\"step\", lw=3, label=\"KS\")\n",
    "    ax[1].hist(np.log10(ad), bins=bins, color=\"orange\", histtype=\"step\", lw=3, label=\"AD\")\n",
    "    ax[1].axvline(np.log10(np.mean(ks)), color=\"navy\", lw=3, ls=\"--\")\n",
    "    ax[1].axvline(np.log10(np.mean(ad)), color=\"red\", lw=3, ls=\"--\")\n",
    "    ax[1].set_xlabel(\"p-value\", fontsize=20)\n",
    "    ax[1].set_yticks([])\n",
    "    ax[1].legend(loc=\"upper left\", fontsize=16)\n",
    "\n",
    "\n",
    "    return fig, ax"
   ]
  },
  {
   "cell_type": "markdown",
   "metadata": {},
   "source": [
    "## Dynamical mass, $\\mu$"
   ]
  },
  {
   "cell_type": "code",
   "metadata": {
    "scrolled": false
   },
   "outputs": [
    {
     "name": "stderr",
     "output_type": "stream",
     "text": [
     ]
    },
    {
     "data": {
      "text/plain": [
       "<Figure size 1152x360 with 2 Axes>"
      ]
     },
     "metadata": {
      "needs_background": "light"
     },
     "output_type": "display_data"
    }
   ],
   "source": [
    "Nsys = len(ms_rv)\n",
    "\n",
    "KS[\"mu\"] = np.zeros(NBOOT)\n",
    "AD[\"mu\"] = np.zeros(NBOOT)\n",
    "\n",
    "mu_rv = np.zeros((NBOOT,Nsys))\n",
    "mu_tr = np.zeros((NBOOT,Nsys))\n",
    "\n",
    "for i in range(NBOOT):\n",
    "    for j in range(Nsys):\n",
    "        # use all RV systems\n",
    "        mu_rv[i,j] = archinfo.mu(rv_systems[j].prob_mass[i], rv_systems[j].Mstar)\n",
    "        \n",
    "        # do a weighted draw of a random transit system\n",
    "        w_rand = np.random.uniform(0,1)\n",
    "        loc = np.argmin(np.abs(w_rand-w_tr))\n",
    "        mu_tr[i,j] = archinfo.mu(transit_systems[loc].prob_mass[i], transit_systems[loc].Mstar)\n",
    "\n",
    "    mu_rv[i] = np.sort(mu_rv[i])\n",
    "    mu_tr[i] = np.sort(mu_tr[i])\n",
    "    \n",
    "    # p-values\n",
    "    KS[\"mu\"][i] = perturbed_ks_2samp(mu_rv[i], mu_tr[i])[1]\n",
    "    AD[\"mu\"][i] = extrapolated_anderson_2samp(mu_rv[i], mu_tr[i])[1]\n",
    "\n",
    "\n",
    "logmu_rv = np.log10(mu_rv)\n",
    "logmu_tr = np.log10(mu_tr)\n",
    "\n",
    "\n",
    "fig, ax = quick_plot([logmu_tr, logmu_rv], KS[\"mu\"], AD[\"mu\"], \"Dynamical Mass, $\\mu$\")"
   ]
  },
  {
   "cell_type": "markdown",
   "metadata": {},
   "source": [
    "## Normalized dynamical mass, $\\mu/N$"
   ]
  },
  {
   "cell_type": "code",
   "metadata": {
    "scrolled": false
   },
   "outputs": [
    {
     "name": "stderr",
     "output_type": "stream",
     "text": [
     ]
    },
    {
     "data": {
      "text/plain": [
       "<Figure size 1152x360 with 2 Axes>"
      ]
     },
     "metadata": {
      "needs_background": "light"
     },
     "output_type": "display_data"
    }
   ],
   "source": [
    "Nsys = len(ms_rv)\n",
    "\n",
    "KS[\"mu_N\"] = np.zeros(NBOOT)\n",
    "AD[\"mu_N\"] = np.zeros(NBOOT)\n",
    "\n",
    "mu_N_rv = np.zeros((NBOOT,Nsys))\n",
    "mu_N_tr = np.zeros((NBOOT,Nsys))\n",
    "\n",
    "for i in range(NBOOT):\n",
    "    for j in range(Nsys):\n",
    "        # use all RV systems\n",
    "        mu_N_rv[i,j] = archinfo.mu(rv_systems[j].prob_mass[i], rv_systems[j].Mstar)/rv_systems[j].N\n",
    "        \n",
    "        # do a weighted draw of a random transit system\n",
    "        w_rand = np.random.uniform(0,1)\n",
    "        loc = np.argmin(np.abs(w_rand-w_tr))\n",
    "        mu_N_tr[i,j] = archinfo.mu(transit_systems[loc].prob_mass[i], \\\n",
    "                                   transit_systems[loc].Mstar)/transit_systems[loc].N\n",
    "\n",
    "    mu_N_rv[i] = np.sort(mu_N_rv[i])\n",
    "    mu_N_tr[i] = np.sort(mu_N_tr[i])\n",
    "    \n",
    "    # p-values \n",
    "    KS[\"mu_N\"][i] = perturbed_ks_2samp(mu_N_rv[i], mu_N_tr[i])[1]\n",
    "    AD[\"mu_N\"][i] = extrapolated_anderson_2samp(mu_N_rv[i], mu_N_tr[i])[1]\n",
    "\n",
    "\n",
    "logmu_N_rv = np.log10(mu_N_rv)\n",
    "logmu_N_tr = np.log10(mu_N_tr)\n",
    "\n",
    "\n",
    "fig, ax = quick_plot([logmu_N_tr, logmu_N_rv], KS[\"mu_N\"], AD[\"mu_N\"], \\\n",
    "                     \"Normalized Dynamical Mass, $\\mu/N$\")"
   ]
  },
  {
   "cell_type": "markdown",
   "metadata": {},
   "source": [
    "## Mass partitioning, Q"
   ]
  },
  {
   "cell_type": "code",
   "metadata": {},
   "outputs": [
    {
     "name": "stderr",
     "output_type": "stream",
     "text": [
     ]
    },
    {
     "data": {
      "text/plain": [
       "<Figure size 1152x360 with 2 Axes>"
      ]
     },
     "metadata": {
      "needs_background": "light"
     },
     "output_type": "display_data"
    }
   ],
   "source": [
    "Nsys = len(ms_rv)\n",
    "\n",
    "KS[\"Q\"] = np.zeros(NBOOT)\n",
    "AD[\"Q\"] = np.zeros(NBOOT)\n",
    "\n",
    "Q_rv = np.zeros((NBOOT,Nsys))\n",
    "Q_tr = np.zeros((NBOOT,Nsys))\n",
    "\n",
    "for i in range(NBOOT):\n",
    "    for j in range(Nsys):\n",
    "        # use all RV systems\n",
    "        Q_rv[i,j] = archinfo.Q(rv_systems[j].prob_mass[i])\n",
    "        \n",
    "        # do a weighted draw of a random transit system\n",
    "        w_rand = np.random.uniform(0,1)\n",
    "        loc = np.argmin(np.abs(w_rand-w_tr))\n",
    "        \n",
    "        Q_tr[i,j] = archinfo.Q(transit_systems[loc].prob_mass[i])\n",
    "\n",
    "\n",
    "    Q_rv[i] = np.sort(Q_rv[i])\n",
    "    Q_tr[i] = np.sort(Q_tr[i])\n",
    "    \n",
    "    # p-values\n",
    "    KS[\"Q\"][i] = perturbed_ks_2samp(Q_rv[i], Q_tr[i])[1]\n",
    "    AD[\"Q\"][i] = extrapolated_anderson_2samp(Q_rv[i], Q_tr[i])[1]\n",
    "        \n",
    "        \n",
    "fig, ax = quick_plot([Q_tr, Q_rv], KS[\"Q\"], AD[\"Q\"], \"Mass Partitioning, $Q$\")"
   ]
  },
  {
   "cell_type": "markdown",
   "metadata": {},
   "source": [
    "## Monotonicity, M"
   ]
  },
  {
   "cell_type": "code",
   "metadata": {},
   "outputs": [
    {
     "name": "stderr",
     "output_type": "stream",
     "text": [
     ]
    },
    {
     "data": {
      "text/plain": [
       "<Figure size 1152x360 with 2 Axes>"
      ]
     },
     "metadata": {
      "needs_background": "light"
     },
     "output_type": "display_data"
    }
   ],
   "source": [
    "Nsys = len(ms_rv)\n",
    "\n",
    "KS[\"M\"] = np.zeros(NBOOT)\n",
    "AD[\"M\"] = np.zeros(NBOOT)\n",
    "\n",
    "M_rv = np.zeros((NBOOT,Nsys))\n",
    "M_tr = np.zeros((NBOOT,Nsys))\n",
    "\n",
    "for i in range(NBOOT):\n",
    "    for j in range(Nsys):\n",
    "        # use all RV systems\n",
    "        M_rv[i,j] = archinfo.M(rv_systems[j].periods, rv_systems[j].prob_mass[i])\n",
    "        \n",
    "        # do a weighted draw of a random transit system\n",
    "        w_rand = np.random.uniform(0,1)\n",
    "        loc = np.argmin(np.abs(w_rand-w_tr))\n",
    "        M_tr[i,j] = archinfo.M(transit_systems[loc].periods, transit_systems[loc].prob_mass[i])\n",
    "\n",
    "\n",
    "    M_rv[i] = np.sort(M_rv[i])\n",
    "    M_tr[i] = np.sort(M_tr[i])\n",
    "    \n",
    "    # p-values\n",
    "    KS[\"M\"][i] = perturbed_ks_2samp(M_rv[i], M_tr[i])[1]\n",
    "    AD[\"M\"][i] = extrapolated_anderson_2samp(M_rv[i], M_tr[i])[1]\n",
    "        \n",
    "        \n",
    "fig, ax = quick_plot([M_tr, M_rv], KS[\"M\"], AD[\"M\"], \"Monotonicity, $M$\")"
   ]
  },
  {
   "cell_type": "markdown",
   "metadata": {},
   "source": [
    "## Gap complexity, C"
   ]
  },
  {
   "cell_type": "code",
   "metadata": {},
   "outputs": [
    {
     "name": "stderr",
     "output_type": "stream",
     "text": [
     ]
    },
    {
     "data": {
      "text/plain": [
       "<Figure size 1152x360 with 2 Axes>"
      ]
     },
     "metadata": {
      "needs_background": "light"
     },
     "output_type": "display_data"
    }
   ],
   "source": [
    "Nsys = len(ms_rv)\n",
    "\n",
    "KS[\"C\"] = np.zeros(NBOOT)\n",
    "AD[\"C\"] = np.zeros(NBOOT)\n",
    "\n",
    "C_rv = np.zeros((NBOOT,Nsys))\n",
    "C_tr = np.zeros((NBOOT,Nsys))\n",
    "\n",
    "for i in range(NBOOT):\n",
    "    for j in range(Nsys):\n",
    "        # use all RV systems\n",
    "        C_rv[i,j] = archinfo.C(rv_systems[j].periods)\n",
    "        \n",
    "        # do a weighted draw of a random transit system\n",
    "        w_rand = np.random.uniform(0,1)\n",
    "        loc = np.argmin(np.abs(w_rand-w_tr))\n",
    "        C_tr[i,j] = archinfo.C(transit_systems[loc].periods)\n",
    "\n",
    "\n",
    "    C_rv[i] = np.sort(C_rv[i])\n",
    "    C_tr[i] = np.sort(C_tr[i])\n",
    "    \n",
    "    # p-values\n",
    "    KS[\"C\"][i] = perturbed_ks_2samp(C_rv[i], C_tr[i])[1]\n",
    "    AD[\"C\"][i] = extrapolated_anderson_2samp(C_rv[i], C_tr[i])[1]\n",
    "        \n",
    "        \n",
    "fig, ax = quick_plot([C_tr, C_rv], KS[\"C\"], AD[\"C\"], \"Gap Complexity, $C$\")"
   ]
  },
  {
   "cell_type": "markdown",
   "metadata": {},
   "source": [
    "## Characteristic Spacing, S"
   ]
  },
  {
   "cell_type": "code",
   "metadata": {},
   "outputs": [
    {
     "name": "stderr",
     "output_type": "stream",
     "text": [
     ]
    },
    {
     "data": {
      "text/plain": [
       "<Figure size 1152x360 with 2 Axes>"
      ]
     },
     "metadata": {
      "needs_background": "light"
     },
     "output_type": "display_data"
    }
   ],
   "source": [
    "Nsys = len(ms_rv)\n",
    "\n",
    "KS[\"S\"] = np.zeros(NBOOT)\n",
    "AD[\"S\"] = np.zeros(NBOOT)\n",
    "\n",
    "S_rv = np.zeros((NBOOT,Nsys))\n",
    "S_tr = np.zeros((NBOOT,Nsys))\n",
    "\n",
    "for i in range(NBOOT):\n",
    "    for j in range(Nsys):\n",
    "        # use all RV systems\n",
    "        S_rv[i,j] = archinfo.S(rv_systems[j].periods, rv_systems[j].prob_mass[i], rv_systems[j].Mstar)\n",
    "        \n",
    "        # do a weighted draw of a random transit system\n",
    "        w_rand = np.random.uniform(0,1)\n",
    "        loc = np.argmin(np.abs(w_rand-w_tr))\n",
    "        S_tr[i,j] = archinfo.S(transit_systems[loc].periods, transit_systems[loc].prob_mass[i], \n",
    "                               transit_systems[loc].Mstar)\n",
    "\n",
    "\n",
    "    S_rv[i] = np.sort(S_rv[i])\n",
    "    S_tr[i] = np.sort(S_tr[i])\n",
    "    \n",
    "    # p-values\n",
    "    KS[\"S\"][i] = perturbed_ks_2samp(S_rv[i], S_tr[i])[1]\n",
    "    AD[\"S\"][i] = extrapolated_anderson_2samp(S_rv[i], S_tr[i])[1]\n",
    "        \n",
    "        \n",
    "fig, ax = quick_plot([S_tr, S_rv], KS[\"S\"], AD[\"S\"], \"Characteristic Spacing, $S$\")"
   ]
  },
  {
   "cell_type": "code",
   "execution_count": null,
   "metadata": {},
   "outputs": [],
   "source": []
  },
  {
   "cell_type": "code",
   "execution_count": null,
   "metadata": {},
   "outputs": [],
   "source": []
  },
  {
   "cell_type": "code",
   "execution_count": null,
   "metadata": {},
   "outputs": [],
   "source": []
  }
 ],
 "metadata": {
  "kernelspec": {
   "display_name": "Python 3",
   "language": "python",
   "name": "python3"
  },
  "language_info": {
   "codemirror_mode": {
    "name": "ipython",
    "version": 3
   },
   "file_extension": ".py",
   "mimetype": "text/x-python",
   "name": "python",
   "nbconvert_exporter": "python",
   "pygments_lexer": "ipython3",
   "version": "3.7.3"
  }
 },
 "nbformat": 4,
 "nbformat_minor": 4
}
